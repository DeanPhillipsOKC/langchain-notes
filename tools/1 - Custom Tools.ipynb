{
 "cells": [
  {
   "cell_type": "code",
   "execution_count": 1,
   "id": "34198504-5b68-4e53-bdfc-15daf63a7ea7",
   "metadata": {},
   "outputs": [],
   "source": [
    "from langchain.tools import BaseTool, StructuredTool, tool"
   ]
  },
  {
   "cell_type": "code",
   "execution_count": 3,
   "id": "a1fa65e8-e98a-4b05-bce2-3c984e855ce6",
   "metadata": {},
   "outputs": [],
   "source": [
    "@tool\n",
    "def name_of_tool(input: str) -> str:\n",
    "    \"\"\"Tool_Description\"\"\"\n",
    "    return \"Result\""
   ]
  },
  {
   "cell_type": "code",
   "execution_count": 4,
   "id": "cdb81d57-fa55-4f12-9254-7c9427b72e63",
   "metadata": {},
   "outputs": [
    {
     "name": "stdout",
     "output_type": "stream",
     "text": [
      "name_of_tool\n"
     ]
    }
   ],
   "source": [
    "print(name_of_tool.name)"
   ]
  },
  {
   "cell_type": "code",
   "execution_count": 5,
   "id": "4fa8051d-48ac-4abc-910e-72586b67cc88",
   "metadata": {},
   "outputs": [
    {
     "name": "stdout",
     "output_type": "stream",
     "text": [
      "Tool_Description\n"
     ]
    }
   ],
   "source": [
    "print(name_of_tool.description)"
   ]
  },
  {
   "cell_type": "code",
   "execution_count": 6,
   "id": "f2bac859-e558-4aa5-9c89-97ac7f1a247b",
   "metadata": {},
   "outputs": [
    {
     "name": "stdout",
     "output_type": "stream",
     "text": [
      "{'input': {'title': 'Input', 'type': 'string'}}\n"
     ]
    }
   ],
   "source": [
    "print(name_of_tool.args)"
   ]
  },
  {
   "cell_type": "markdown",
   "id": "98119a81-0ae6-4efe-9967-2e72be8d9056",
   "metadata": {},
   "source": [
    "## Defining, binding, and calling"
   ]
  },
  {
   "cell_type": "code",
   "execution_count": 7,
   "id": "62a37755-72f9-44e8-8215-70ebc1d0e929",
   "metadata": {},
   "outputs": [],
   "source": [
    "@tool\n",
    "def sta_coins(input: float) -> float:\n",
    "    \"\"\"Use this tool to convert USD to Start-Tech Academy coins\"\"\"\n",
    "    return 1.3 * input"
   ]
  },
  {
   "cell_type": "code",
   "execution_count": 8,
   "id": "d0ebae2a-cfdb-4d4a-ad25-395f73857752",
   "metadata": {},
   "outputs": [],
   "source": [
    "from langchain_openai import ChatOpenAI"
   ]
  },
  {
   "cell_type": "code",
   "execution_count": 9,
   "id": "95f78daa-e810-4634-ab3b-1a49b09cfe2d",
   "metadata": {},
   "outputs": [],
   "source": [
    "llm = ChatOpenAI()"
   ]
  },
  {
   "cell_type": "code",
   "execution_count": 11,
   "id": "543d4133-e0cc-48eb-9cf9-210ea2d22dda",
   "metadata": {},
   "outputs": [],
   "source": [
    "llm_with_bound_tools = llm.bind_tools([sta_coins])"
   ]
  },
  {
   "cell_type": "code",
   "execution_count": 12,
   "id": "4478080b-15c2-4284-8411-3dcdf104e9e7",
   "metadata": {},
   "outputs": [],
   "source": [
    "result = llm_with_bound_tools.invoke(\"How many start-tech academy coins can I get for USD10?\")"
   ]
  },
  {
   "cell_type": "code",
   "execution_count": 14,
   "id": "0ee9ee16-6ddd-400e-bf96-73d0cad74370",
   "metadata": {},
   "outputs": [
    {
     "data": {
      "text/plain": [
       "[{'name': 'sta_coins',\n",
       "  'args': {'input': 10},\n",
       "  'id': 'call_z2oGjYKkSqNoSiZBZ9whUAKu',\n",
       "  'type': 'tool_call'}]"
      ]
     },
     "execution_count": 14,
     "metadata": {},
     "output_type": "execute_result"
    }
   ],
   "source": [
    "result.tool_calls"
   ]
  },
  {
   "cell_type": "code",
   "execution_count": 15,
   "id": "d26aeeea-a362-4cd8-85d9-b08d07d1aa04",
   "metadata": {},
   "outputs": [],
   "source": [
    "tool_mapping = {\n",
    "    'sta_coins': sta_coins\n",
    "}"
   ]
  },
  {
   "cell_type": "code",
   "execution_count": 17,
   "id": "26f4bced-543f-40fd-8891-1ef1de837e7b",
   "metadata": {},
   "outputs": [],
   "source": [
    "tool = tool_mapping[result.tool_calls[0][\"name\"]]"
   ]
  },
  {
   "cell_type": "code",
   "execution_count": 18,
   "id": "037b3555-ae5f-4d25-aaa3-22e8faebc17b",
   "metadata": {},
   "outputs": [],
   "source": [
    "tool_output = tool.invoke(result.tool_calls[0][\"args\"])"
   ]
  },
  {
   "cell_type": "code",
   "execution_count": 19,
   "id": "73a44cd4-53f5-4e3b-ae97-8cee72bf51df",
   "metadata": {},
   "outputs": [
    {
     "data": {
      "text/plain": [
       "13.0"
      ]
     },
     "execution_count": 19,
     "metadata": {},
     "output_type": "execute_result"
    }
   ],
   "source": [
    "tool_output"
   ]
  },
  {
   "cell_type": "code",
   "execution_count": null,
   "id": "c1176d46-2c01-4acc-a27d-e61ca67a491a",
   "metadata": {},
   "outputs": [],
   "source": []
  }
 ],
 "metadata": {
  "kernelspec": {
   "display_name": "Python 3 (ipykernel)",
   "language": "python",
   "name": "python3"
  },
  "language_info": {
   "codemirror_mode": {
    "name": "ipython",
    "version": 3
   },
   "file_extension": ".py",
   "mimetype": "text/x-python",
   "name": "python",
   "nbconvert_exporter": "python",
   "pygments_lexer": "ipython3",
   "version": "3.12.4"
  }
 },
 "nbformat": 4,
 "nbformat_minor": 5
}
