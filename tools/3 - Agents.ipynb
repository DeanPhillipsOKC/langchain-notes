{
 "cells": [
  {
   "cell_type": "code",
   "execution_count": 1,
   "id": "3b1c5bf5-fcc0-4858-860b-9947d351a1a9",
   "metadata": {},
   "outputs": [
    {
     "name": "stdout",
     "output_type": "stream",
     "text": [
      "\n",
      "\u001b[1m[\u001b[0m\u001b[34;49mnotice\u001b[0m\u001b[1;39;49m]\u001b[0m\u001b[39;49m A new release of pip is available: \u001b[0m\u001b[31;49m24.0\u001b[0m\u001b[39;49m -> \u001b[0m\u001b[32;49m24.2\u001b[0m\n",
      "\u001b[1m[\u001b[0m\u001b[34;49mnotice\u001b[0m\u001b[1;39;49m]\u001b[0m\u001b[39;49m To update, run: \u001b[0m\u001b[32;49m/usr/local/Cellar/jupyterlab/4.2.3/libexec/bin/python -m pip install --upgrade pip\u001b[0m\n",
      "Note: you may need to restart the kernel to use updated packages.\n"
     ]
    }
   ],
   "source": [
    "%pip install --upgrade --quiet wikipedia"
   ]
  },
  {
   "cell_type": "code",
   "execution_count": 1,
   "id": "5a8e7896-e199-4e76-a868-8eeecd5ea642",
   "metadata": {},
   "outputs": [],
   "source": [
    "from langchain_community.tools import DuckDuckGoSearchResults"
   ]
  },
  {
   "cell_type": "code",
   "execution_count": 5,
   "id": "b1ce5325-4826-4e11-9566-4efb00592511",
   "metadata": {},
   "outputs": [],
   "source": [
    "from langchain_community.tools import WikipediaQueryRun\n",
    "from langchain_community.utilities import WikipediaAPIWrapper"
   ]
  },
  {
   "cell_type": "code",
   "execution_count": 3,
   "id": "a71f28b6-0cdb-4d02-8a97-8f3370bc6fb9",
   "metadata": {},
   "outputs": [],
   "source": [
    "search = DuckDuckGoSearchResults()"
   ]
  },
  {
   "cell_type": "code",
   "execution_count": 6,
   "id": "b7474ae7-bb2a-46ee-9e2b-4dc204dfbca6",
   "metadata": {},
   "outputs": [],
   "source": [
    "wikipedia = WikipediaQueryRun(api_wrapper=WikipediaAPIWrapper())"
   ]
  },
  {
   "cell_type": "code",
   "execution_count": 7,
   "id": "86fb2a39-67e1-4aa0-88da-6d16a514cf37",
   "metadata": {},
   "outputs": [],
   "source": [
    "from langchain_core.prompts import ChatPromptTemplate"
   ]
  },
  {
   "cell_type": "code",
   "execution_count": 19,
   "id": "a5a8d711-9ff7-4532-ad5b-82b9dad7a3b8",
   "metadata": {},
   "outputs": [],
   "source": [
    "prompt = ChatPromptTemplate.from_messages(\n",
    "    [\n",
    "        (\"system\", \"You are a helpful assistant.  For answering the user query, look for infomration using DuckDuckGo and Wikipedia and then give the final answer\"),\n",
    "        (\"placeholder\", \"{history}\"),\n",
    "        (\"human\", \"{input}\"),\n",
    "        (\"placeholder\", \"{agent_scratchpad}\")\n",
    "    ]\n",
    ")"
   ]
  },
  {
   "cell_type": "code",
   "execution_count": 10,
   "id": "14fd0562-b87f-4319-8671-38530aec358c",
   "metadata": {},
   "outputs": [],
   "source": [
    "tools = [search, wikipedia]"
   ]
  },
  {
   "cell_type": "code",
   "execution_count": 11,
   "id": "c9f117f4-f5bb-486d-8c62-aeb0b8caf7cf",
   "metadata": {},
   "outputs": [],
   "source": [
    "from langchain_openai import ChatOpenAI"
   ]
  },
  {
   "cell_type": "code",
   "execution_count": 12,
   "id": "d3bd7078-1df8-4e8b-bdef-438e4f467b3f",
   "metadata": {},
   "outputs": [],
   "source": [
    "llm = ChatOpenAI()"
   ]
  },
  {
   "cell_type": "code",
   "execution_count": 13,
   "id": "57364a9b-3f91-494d-8794-c7f694fb3133",
   "metadata": {},
   "outputs": [],
   "source": [
    "from langchain.agents import create_tool_calling_agent"
   ]
  },
  {
   "cell_type": "code",
   "execution_count": 14,
   "id": "0883253a-ee28-4910-bf06-cf0c64cc54a8",
   "metadata": {},
   "outputs": [],
   "source": [
    "agent = create_tool_calling_agent(llm, tools, prompt)"
   ]
  },
  {
   "cell_type": "code",
   "execution_count": 15,
   "id": "f1c84a9f-3ffc-4f66-947f-b8d9d2c5f930",
   "metadata": {},
   "outputs": [],
   "source": [
    "from langchain.agents import AgentExecutor"
   ]
  },
  {
   "cell_type": "code",
   "execution_count": 16,
   "id": "8b5eb547-c2e1-4fed-b763-72950f0d9158",
   "metadata": {},
   "outputs": [],
   "source": [
    "agent_executor = AgentExecutor(agent=agent, tools=tools, verbose=True)"
   ]
  },
  {
   "cell_type": "code",
   "execution_count": 20,
   "id": "c7b57a29-42b2-4c6e-8011-f099993a6c23",
   "metadata": {},
   "outputs": [
    {
     "name": "stdout",
     "output_type": "stream",
     "text": [
      "\n",
      "\n",
      "\u001b[1m> Entering new AgentExecutor chain...\u001b[0m\n",
      "\u001b[32;1m\u001b[1;3m\n",
      "Invoking: `duckduckgo_results_json` with `{'query': 'latest news U.S. 2024 election'}`\n",
      "\n",
      "\n",
      "\u001b[0m\u001b[36;1m\u001b[1;3m[snippet: Aug. 23. 47% Trump Trump. 49% Harris Harris. Ruth Igielnik Staff editor, polling. The current polling averages capture where the race stands as Democrats wrap up their convention in Chicago ..., title: Election 2024 Polls: Harris vs. Trump | The New York Times, link: https://www.nytimes.com/interactive/2024/us/elections/polls-president.html], [snippet: An unsettled and unpredictable 2024 presidential race is entering its final stretch, with Vice President Kamala Harris looking to build on the momentum of this week's Democratic National ..., title: With the conventions over, Harris and Trump begin the final sprint to ..., link: https://edition.cnn.com/2024/08/24/politics/harris-trump-2024-race/index.html], [snippet: Robert F. Kennedy Jr. is suspending his independent campaign for the presidency, he said Friday at an event in Phoenix, the latest shift in a fast-evolving 2024 campaign., title: Election 2024 Live Updates: R.F.K. Jr. Suspends Independent Bid for ..., link: https://www.nytimes.com/live/2024/08/23/us/harris-dnc-trump-election], [snippet: Follow all the latest news, live updates, videos, verified reports and expert analysis of US Election 2024 from BBC journalists in the US and around the world., title: US Election 2024 | Latest News & Analysis | BBC News, link: https://www.bbc.com/news/topics/cj3ergr8209t]\u001b[0m\u001b[32;1m\u001b[1;3mThe latest news in the U.S. 2024 election includes updates on the polling averages between Vice President Kamala Harris and former President Donald Trump, the final sprint of the presidential race, Robert F. Kennedy Jr. suspending his independent campaign for the presidency, and ongoing coverage by news outlets like The New York Times and BBC News. You can find more details on these topics by visiting the respective links:\n",
      "1. [Election 2024 Polls: Harris vs. Trump | The New York Times](https://www.nytimes.com/interactive/2024/us/elections/polls-president.html)\n",
      "2. [With the conventions over, Harris and Trump begin the final sprint to ... | CNN](https://edition.cnn.com/2024/08/24/politics/harris-trump-2024-race/index.html)\n",
      "3. [Election 2024 Live Updates: R.F.K. Jr. Suspends Independent Bid for ... | The New York Times](https://www.nytimes.com/live/2024/08/23/us/harris-dnc-trump-election)\n",
      "4. [US Election 2024 | Latest News & Analysis | BBC News](https://www.bbc.com/news/topics/cj3ergr8209t)\u001b[0m\n",
      "\n",
      "\u001b[1m> Finished chain.\u001b[0m\n"
     ]
    },
    {
     "data": {
      "text/plain": [
       "{'input': 'What is the latest news in the U.S. 2024 election',\n",
       " 'output': 'The latest news in the U.S. 2024 election includes updates on the polling averages between Vice President Kamala Harris and former President Donald Trump, the final sprint of the presidential race, Robert F. Kennedy Jr. suspending his independent campaign for the presidency, and ongoing coverage by news outlets like The New York Times and BBC News. You can find more details on these topics by visiting the respective links:\\n1. [Election 2024 Polls: Harris vs. Trump | The New York Times](https://www.nytimes.com/interactive/2024/us/elections/polls-president.html)\\n2. [With the conventions over, Harris and Trump begin the final sprint to ... | CNN](https://edition.cnn.com/2024/08/24/politics/harris-trump-2024-race/index.html)\\n3. [Election 2024 Live Updates: R.F.K. Jr. Suspends Independent Bid for ... | The New York Times](https://www.nytimes.com/live/2024/08/23/us/harris-dnc-trump-election)\\n4. [US Election 2024 | Latest News & Analysis | BBC News](https://www.bbc.com/news/topics/cj3ergr8209t)'}"
      ]
     },
     "execution_count": 20,
     "metadata": {},
     "output_type": "execute_result"
    }
   ],
   "source": [
    "agent_executor.invoke({\"input\": \"What is the latest news in the U.S. 2024 election\"})"
   ]
  },
  {
   "cell_type": "markdown",
   "id": "6fc29281-afed-4a97-93f9-5442e70fc2a8",
   "metadata": {},
   "source": [
    "## Example with memory"
   ]
  },
  {
   "cell_type": "code",
   "execution_count": 21,
   "id": "cbca06a0-6693-4c8e-a2f1-0d7822d9479e",
   "metadata": {},
   "outputs": [],
   "source": [
    "store = {}"
   ]
  },
  {
   "cell_type": "code",
   "execution_count": 25,
   "id": "132168a2-1eba-47bb-b5a5-c73e3ff30df5",
   "metadata": {},
   "outputs": [],
   "source": [
    "from langchain_core.chat_history import BaseChatMessageHistory\n",
    "from langchain_community.chat_message_histories import ChatMessageHistory\n",
    "from langchain_core.runnables.history import RunnableWithMessageHistory"
   ]
  },
  {
   "cell_type": "code",
   "execution_count": 24,
   "id": "2285f82e-7670-4cce-886c-fae507c11557",
   "metadata": {},
   "outputs": [],
   "source": [
    "def get_session_history(session_id: str) -> BaseChatMessageHistory:\n",
    "    if session_id not in store:\n",
    "        store[session_id] = ChatMessageHistory()\n",
    "    return store[session_id]"
   ]
  },
  {
   "cell_type": "code",
   "execution_count": 27,
   "id": "23b86f62-c2fd-4ba9-950d-8a6c40752c5d",
   "metadata": {},
   "outputs": [],
   "source": [
    "agent_with_history = RunnableWithMessageHistory(\n",
    "    agent_executor,\n",
    "    get_session_history,\n",
    "    import_messages_key=\"input\",\n",
    "    history_messages_key=\"history\"\n",
    ")"
   ]
  },
  {
   "cell_type": "code",
   "execution_count": 30,
   "id": "c6fe4de3-0a83-43e4-807e-b1da05c1eccb",
   "metadata": {},
   "outputs": [
    {
     "name": "stdout",
     "output_type": "stream",
     "text": [
      "\n",
      "\n",
      "\u001b[1m> Entering new AgentExecutor chain...\u001b[0m\n",
      "\u001b[32;1m\u001b[1;3m\n",
      "Invoking: `duckduckgo_results_json` with `{'query': 'latest news U.S. 2024 election'}`\n",
      "\n",
      "\n",
      "\u001b[0m\u001b[36;1m\u001b[1;3m[snippet: The latest New York Times/Siena College polls find an essentially tied race across the four key Sun Belt battleground states. A dead heat in these states is not great news for Trump, who may need ..., title: Election 2024 Polls: Harris vs. Trump | The New York Times, link: https://www.nytimes.com/interactive/2024/us/elections/polls-president.html], [snippet: An unsettled and unpredictable 2024 presidential race is entering its final stretch, with Vice President Kamala Harris looking to build on the momentum of this week's Democratic National ..., title: With the conventions over, Harris and Trump begin the final sprint to ..., link: https://edition.cnn.com/2024/08/24/politics/harris-trump-2024-race/index.html], [snippet: Robert F. Kennedy Jr. is suspending his independent campaign for the presidency, he said Friday at an event in Phoenix, the latest shift in a fast-evolving 2024 campaign., title: Election 2024 Live Updates: R.F.K. Jr. Suspends Independent Bid for ..., link: https://www.nytimes.com/live/2024/08/23/us/harris-dnc-trump-election], [snippet: Follow all the latest news, live updates, videos, verified reports and expert analysis of US Election 2024 from BBC journalists in the US and around the world., title: US Election 2024 | Latest News & Analysis | BBC News, link: https://www.bbc.com/news/topics/cj3ergr8209t]\u001b[0m\u001b[32;1m\u001b[1;3mThe latest news in the U.S. 2024 election includes:\n",
      "\n",
      "1. The latest New York Times/Siena College polls show an essentially tied race across the four key Sun Belt battleground states. For more information, you can visit [The New York Times article](https://www.nytimes.com/interactive/2024/us/elections/polls-president.html).\n",
      "\n",
      "2. The 2024 presidential race is described as unsettled and unpredictable as Vice President Kamala Harris aims to build on the momentum from the Democratic National Convention. Read more on this topic at [CNN](https://edition.cnn.com/2024/08/24/politics/harris-trump-2024-race/index.html).\n",
      "\n",
      "3. Robert F. Kennedy Jr. has announced the suspension of his independent campaign for the presidency, adding to the fast-evolving 2024 campaign landscape. You can find updates on this development at [The New York Times](https://www.nytimes.com/live/2024/08/23/us/harris-dnc-trump-election).\n",
      "\n",
      "4. For comprehensive coverage, live updates, videos, verified reports, and expert analysis of the U.S. Election 2024, you can follow the latest news on the [BBC News](https://www.bbc.com/news/topics/cj3ergr8209t).\u001b[0m\n",
      "\n",
      "\u001b[1m> Finished chain.\u001b[0m\n"
     ]
    },
    {
     "data": {
      "text/plain": [
       "{'input': 'What is the latest news in the U.S. 2024 election',\n",
       " 'history': [],\n",
       " 'output': 'The latest news in the U.S. 2024 election includes:\\n\\n1. The latest New York Times/Siena College polls show an essentially tied race across the four key Sun Belt battleground states. For more information, you can visit [The New York Times article](https://www.nytimes.com/interactive/2024/us/elections/polls-president.html).\\n\\n2. The 2024 presidential race is described as unsettled and unpredictable as Vice President Kamala Harris aims to build on the momentum from the Democratic National Convention. Read more on this topic at [CNN](https://edition.cnn.com/2024/08/24/politics/harris-trump-2024-race/index.html).\\n\\n3. Robert F. Kennedy Jr. has announced the suspension of his independent campaign for the presidency, adding to the fast-evolving 2024 campaign landscape. You can find updates on this development at [The New York Times](https://www.nytimes.com/live/2024/08/23/us/harris-dnc-trump-election).\\n\\n4. For comprehensive coverage, live updates, videos, verified reports, and expert analysis of the U.S. Election 2024, you can follow the latest news on the [BBC News](https://www.bbc.com/news/topics/cj3ergr8209t).'}"
      ]
     },
     "execution_count": 30,
     "metadata": {},
     "output_type": "execute_result"
    }
   ],
   "source": [
    "agent_with_history.invoke(\n",
    "    {\"input\": \"What is the latest news in the U.S. 2024 election\"},\n",
    "    config={\"configurable\": {\"session_id\": \"sess1\"}}    \n",
    ")"
   ]
  },
  {
   "cell_type": "code",
   "execution_count": 31,
   "id": "6c4627a4-693c-4e22-a8c1-b5a9be906dd3",
   "metadata": {},
   "outputs": [
    {
     "name": "stdout",
     "output_type": "stream",
     "text": [
      "\n",
      "\n",
      "\u001b[1m> Entering new AgentExecutor chain...\u001b[0m\n",
      "\u001b[32;1m\u001b[1;3m\n",
      "Invoking: `wikipedia` with `{'query': 'battleground states in 2020 US election'}`\n",
      "\n",
      "\n",
      "\u001b[0m\u001b[33;1m\u001b[1;3mPage: 2020 United States presidential election\n",
      "Summary: The 2020 United States presidential election was the 59th quadrennial presidential election, held on Tuesday, November 3, 2020. The Democratic ticket of former vice president Joe Biden and the junior U.S. senator from California Kamala Harris defeated the incumbent Republican president, Donald Trump, and vice president, Mike Pence. The election took place against the backdrop of the global COVID-19 pandemic and related recession. The election saw the highest voter turnout by percentage since 1900, with each of the two main tickets receiving more than 74 million votes, surpassing Barack Obama's record of 69.5 million votes from 2008. Biden received more than 81 million votes, the most votes ever cast for a candidate in a U.S. presidential election.\n",
      "In a competitive primary that featured the most candidates for any political party in the modern era of American politics, Biden secured the Democratic presidential nomination over his closest rival, Senator Bernie Sanders. Biden's running mate, Harris, became the first African-American, first Asian-American, and third female vice presidential nominee on a major party ticket. Trump secured re-nomination, getting a total of 2,549 delegates, one of the most in presidential primary history, to runner-up Bill Weld's one delegate in the Republican primaries. Jo Jorgensen secured the Libertarian presidential nomination with Spike Cohen as her running mate, and Howie Hawkins secured the Green presidential nomination with Angela Nicole Walker as his running mate.\n",
      "The central issues of the election included the public health and economic impacts of the ongoing COVID-19 pandemic; civil unrest in reaction to the police murder of George Floyd and others; the Supreme Court following the death of Ruth Bader Ginsburg and confirmation of Amy Coney Barrett; and the future of the Affordable Care Act. Due to the ongoing pandemic, a record number of ballots were cast early and by mail. Many more registered Democrats voted by mail than registered Republicans. As a result of a large number of mail-in ballots, some swing states saw delays in vote counting and reporting; this led to major news outlets delaying their projection of Biden and Harris as the president-elect and vice president-elect until the morning of November 7, three and a half days after the election. Major media networks project a state for a candidate once there is high statistical confidence that the outstanding vote would be unlikely to prevent the projected winner from ultimately winning that state.\n",
      "Biden ultimately received the majority in the Electoral College with 306 electoral votes, while Trump received 232. Trump was the first president to lose re-election since George H. W. Bush in 1992. Key to Biden's victory were his wins in the Democratic-leaning Rust Belt states of Michigan, Pennsylvania, and Wisconsin, which Trump narrowly carried in 2016 and whose combined 46 electoral votes were enough to swing the election to either candidate. The electoral vote totals (306 committed electoral votes won by Biden and 232 committed electoral votes won by Trump) were identical to the number of committed electoral votes won by Trump and Hillary Clinton respectively in the 2016 United States presidential election, not considering adjustments due to faithless electors. Biden also became the first Democrat to win a presidential election in Georgia since 1992 and in Arizona since 1996, as well as Nebraska's 2nd congressional district since 2008.\n",
      "Before, during, and after Election Day, Trump and numerous other Republicans engaged in an aggressive and unprecedented attempt to subvert the election and overturn the results, falsely alleging widespread voter fraud and trying to influence the vote-counting process in swing states, in what was described by many as an attempted coup d'état, or more specifically an attempted self-coup. Attorney General William Barr and officials in each of the 50 sta\u001b[0m\u001b[32;1m\u001b[1;3mThe battleground states referenced in the 2020 US election were the Democratic-leaning Rust Belt states of Michigan, Pennsylvania, and Wisconsin. These states were key to Joe Biden's victory in the election as they were narrowly carried by Donald Trump in 2016 and had a combined 46 electoral votes, which were enough to swing the election to either candidate.\u001b[0m\n",
      "\n",
      "\u001b[1m> Finished chain.\u001b[0m\n"
     ]
    },
    {
     "data": {
      "text/plain": [
       "{'input': 'What were the battleground states referenced by the poll',\n",
       " 'history': [HumanMessage(content='What is the latest news in the U.S. 2024 election'),\n",
       "  AIMessage(content='The latest news in the U.S. 2024 election includes:\\n\\n1. The latest New York Times/Siena College polls show an essentially tied race across the four key Sun Belt battleground states. For more information, you can visit [The New York Times article](https://www.nytimes.com/interactive/2024/us/elections/polls-president.html).\\n\\n2. The 2024 presidential race is described as unsettled and unpredictable as Vice President Kamala Harris aims to build on the momentum from the Democratic National Convention. Read more on this topic at [CNN](https://edition.cnn.com/2024/08/24/politics/harris-trump-2024-race/index.html).\\n\\n3. Robert F. Kennedy Jr. has announced the suspension of his independent campaign for the presidency, adding to the fast-evolving 2024 campaign landscape. You can find updates on this development at [The New York Times](https://www.nytimes.com/live/2024/08/23/us/harris-dnc-trump-election).\\n\\n4. For comprehensive coverage, live updates, videos, verified reports, and expert analysis of the U.S. Election 2024, you can follow the latest news on the [BBC News](https://www.bbc.com/news/topics/cj3ergr8209t).')],\n",
       " 'output': \"The battleground states referenced in the 2020 US election were the Democratic-leaning Rust Belt states of Michigan, Pennsylvania, and Wisconsin. These states were key to Joe Biden's victory in the election as they were narrowly carried by Donald Trump in 2016 and had a combined 46 electoral votes, which were enough to swing the election to either candidate.\"}"
      ]
     },
     "execution_count": 31,
     "metadata": {},
     "output_type": "execute_result"
    }
   ],
   "source": [
    "agent_with_history.invoke(\n",
    "    {\"input\": \"What were the battleground states referenced by the poll\"},\n",
    "    config={\"configurable\": {\"session_id\": \"sess1\"}}    \n",
    ")"
   ]
  },
  {
   "cell_type": "code",
   "execution_count": null,
   "id": "ef0df6ec-57a0-43c4-9ffd-1801c2f5faa9",
   "metadata": {},
   "outputs": [],
   "source": []
  }
 ],
 "metadata": {
  "kernelspec": {
   "display_name": "Python 3 (ipykernel)",
   "language": "python",
   "name": "python3"
  },
  "language_info": {
   "codemirror_mode": {
    "name": "ipython",
    "version": 3
   },
   "file_extension": ".py",
   "mimetype": "text/x-python",
   "name": "python",
   "nbconvert_exporter": "python",
   "pygments_lexer": "ipython3",
   "version": "3.12.4"
  }
 },
 "nbformat": 4,
 "nbformat_minor": 5
}
