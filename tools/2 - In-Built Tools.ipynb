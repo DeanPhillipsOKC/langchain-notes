{
 "cells": [
  {
   "cell_type": "markdown",
   "id": "5662a7c1-75ba-4db0-a794-9c478e5afd7f",
   "metadata": {},
   "source": [
    "## DuckDuckGo search tool"
   ]
  },
  {
   "cell_type": "code",
   "execution_count": 1,
   "id": "bf7c3392-8048-4601-9375-843452ae6be3",
   "metadata": {},
   "outputs": [
    {
     "name": "stdout",
     "output_type": "stream",
     "text": [
      "\n",
      "\u001b[1m[\u001b[0m\u001b[34;49mnotice\u001b[0m\u001b[1;39;49m]\u001b[0m\u001b[39;49m A new release of pip is available: \u001b[0m\u001b[31;49m24.0\u001b[0m\u001b[39;49m -> \u001b[0m\u001b[32;49m24.2\u001b[0m\n",
      "\u001b[1m[\u001b[0m\u001b[34;49mnotice\u001b[0m\u001b[1;39;49m]\u001b[0m\u001b[39;49m To update, run: \u001b[0m\u001b[32;49m/usr/local/Cellar/jupyterlab/4.2.3/libexec/bin/python -m pip install --upgrade pip\u001b[0m\n",
      "Note: you may need to restart the kernel to use updated packages.\n"
     ]
    }
   ],
   "source": [
    "%pip install --upgrade --quiet duckduckgo-search"
   ]
  },
  {
   "cell_type": "code",
   "execution_count": 1,
   "id": "5e17b730-910c-44b7-841d-873cb5525cfd",
   "metadata": {},
   "outputs": [],
   "source": [
    "from langchain_community.tools import DuckDuckGoSearchRun"
   ]
  },
  {
   "cell_type": "code",
   "execution_count": 3,
   "id": "5c44d883-6ef1-4699-a454-b60373568979",
   "metadata": {},
   "outputs": [],
   "source": [
    "search = DuckDuckGoSearchRun()"
   ]
  },
  {
   "cell_type": "code",
   "execution_count": 4,
   "id": "d5b84aaa-a49a-456b-ba86-0a5e888260a6",
   "metadata": {},
   "outputs": [
    {
     "data": {
      "text/plain": [
       "('duckduckgo_search',\n",
       " 'A wrapper around DuckDuckGo Search. Useful for when you need to answer questions about current events. Input should be a search query.')"
      ]
     },
     "execution_count": 4,
     "metadata": {},
     "output_type": "execute_result"
    }
   ],
   "source": [
    "search.name, search.description"
   ]
  },
  {
   "cell_type": "code",
   "execution_count": 5,
   "id": "561da676-44af-4985-9847-bd3477178c81",
   "metadata": {},
   "outputs": [
    {
     "data": {
      "text/plain": [
       "'These tools can be chosen from LangChain\\'s native tools, or you can define custom tools if necessary. tools = load_tools([\"wikipedia\", \"llm-math\"], llm=llm) 4. Tool Calling with LangChain. TLDR: We are introducing a new tool_calls attribute on AIMessage. More and more LLM providers are exposing API\\'s for reliable tool calling. The goal with the new attribute is to provide a standard interface for interacting with tool invocations. This is fully backwards compatible and is supported on all models ... LangChain 🦜️🔗 Tool Calling. LangChain provides standard Tool Calling approach to many LLM providers like Anthropic, Cohere, Google, Mistral, and OpenAI support variants of this tool ... from langchain.tools.render import format_tool_to_openai_function llm_with_tools = llm.bind(functions=[format_tool_to_openai_function(t) for t in tools]) Now, we can create the agent by defining input mappings and connecting the components: This is LCEL language. We will discuss this later in detail. LangChain Agents Deconstructed. Illustration by Author. The agent for our Math Wiz app will be using the following tools: Wikipedia Tool: this tool will be responsible for fetching the latest information from Wikipedia using the Wikipedia API. While there are paid tools and APIs available that can be integrated inside LangChain, I would be using Wikipedia as the app\\'s online source of ...'"
      ]
     },
     "execution_count": 5,
     "metadata": {},
     "output_type": "execute_result"
    }
   ],
   "source": [
    "search.run(\"What are tools in Langchain?\")"
   ]
  },
  {
   "cell_type": "code",
   "execution_count": 6,
   "id": "284f1fef-72be-4dda-8628-1456b19f23e7",
   "metadata": {},
   "outputs": [],
   "source": [
    "from langchain_community.tools import DuckDuckGoSearchResults"
   ]
  },
  {
   "cell_type": "code",
   "execution_count": 7,
   "id": "72f6720f-3bde-4f29-9c8c-dea20300cf3a",
   "metadata": {},
   "outputs": [],
   "source": [
    "search_results = DuckDuckGoSearchResults()"
   ]
  },
  {
   "cell_type": "code",
   "execution_count": 8,
   "id": "c17acd44-8b45-4f33-9d35-5aca3614aa26",
   "metadata": {},
   "outputs": [
    {
     "data": {
      "text/plain": [
       "'[snippet: These tools can be chosen from LangChain\\'s native tools, or you can define custom tools if necessary. tools = load_tools([\"wikipedia\", \"llm-math\"], llm=llm) 4., title: Understanding LangChain Agents: A Beginner\\'s Guide to How ... - Medium, link: https://medium.com/@ranadevrat/understanding-langchain-agents-a-beginners-guide-8a87708dc48e], [snippet: Tool Calling with LangChain. TLDR: We are introducing a new tool_calls attribute on AIMessage. More and more LLM providers are exposing API\\'s for reliable tool calling. The goal with the new attribute is to provide a standard interface for interacting with tool invocations. This is fully backwards compatible and is supported on all models ..., title: Tool Calling with LangChain, link: https://blog.langchain.dev/tool-calling-with-langchain/], [snippet: LangChain 🦜️🔗 Tool Calling. LangChain provides standard Tool Calling approach to many LLM providers like Anthropic, Cohere, Google, Mistral, and OpenAI support variants of this tool ..., title: LangChain ️ Tool Calling and Tool Calling Agent ... - Medium, link: https://medium.com/@dminhk/langchain-️-tool-calling-and-tool-calling-agent-with-anthropic-467b0fb58980], [snippet: from langchain.tools.render import format_tool_to_openai_function llm_with_tools = llm.bind(functions=[format_tool_to_openai_function(t) for t in tools]) Now, we can create the agent by defining input mappings and connecting the components: This is LCEL language. We will discuss this later in detail., title: LangChain: A Complete Guide & Tutorial - Nanonets, link: https://nanonets.com/blog/langchain/]'"
      ]
     },
     "execution_count": 8,
     "metadata": {},
     "output_type": "execute_result"
    }
   ],
   "source": [
    "search_results.invoke(\"What are tools in Langchain?\")"
   ]
  },
  {
   "cell_type": "code",
   "execution_count": null,
   "id": "e5acb723-a292-432d-b97f-cfb7f80a4bae",
   "metadata": {},
   "outputs": [],
   "source": []
  }
 ],
 "metadata": {
  "kernelspec": {
   "display_name": "Python 3 (ipykernel)",
   "language": "python",
   "name": "python3"
  },
  "language_info": {
   "codemirror_mode": {
    "name": "ipython",
    "version": 3
   },
   "file_extension": ".py",
   "mimetype": "text/x-python",
   "name": "python",
   "nbconvert_exporter": "python",
   "pygments_lexer": "ipython3",
   "version": "3.12.4"
  }
 },
 "nbformat": 4,
 "nbformat_minor": 5
}
