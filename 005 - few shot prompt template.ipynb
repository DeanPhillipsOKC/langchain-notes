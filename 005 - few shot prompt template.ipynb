{
 "cells": [
  {
   "cell_type": "code",
   "execution_count": 1,
   "id": "094b6179-19dd-40ac-8079-30d3a9b3693c",
   "metadata": {},
   "outputs": [],
   "source": [
    "from langchain import FewShotPromptTemplate"
   ]
  },
  {
   "cell_type": "code",
   "execution_count": 2,
   "id": "c15bf1a1-4a3f-4faf-b0dc-c0a87af88e57",
   "metadata": {},
   "outputs": [],
   "source": [
    "examples = [\n",
    "    {\n",
    "        \"rev\": \"I love this product!\",\n",
    "        \"answer\": \"positive\"\n",
    "    },\n",
    "    {\n",
    "        \"rev\": \"It was an average experience\",\n",
    "        \"answer\": \"neutral\"\n",
    "    },\n",
    "    {\n",
    "        \"rev\": \"I wonder why it is so highly rated\",\n",
    "        \"answer\": \"negative\"\n",
    "    }\n",
    "]"
   ]
  },
  {
   "cell_type": "code",
   "execution_count": 3,
   "id": "9aa85955-3f17-4e2c-888f-543c1d4e4b53",
   "metadata": {},
   "outputs": [],
   "source": [
    "from langchain import PromptTemplate"
   ]
  },
  {
   "cell_type": "code",
   "execution_count": 5,
   "id": "ec0c0cef-21ce-4354-9d99-319cbc3606e4",
   "metadata": {},
   "outputs": [],
   "source": [
    "example_prompt = PromptTemplate(\n",
    "    input_variables=[\"rev\", \"answer\"],\n",
    "    template=\"\"\"\n",
    "User: {rev}\n",
    "AI: {answer}\n",
    "\"\"\"\n",
    ")"
   ]
  },
  {
   "cell_type": "code",
   "execution_count": 6,
   "id": "2a3d5d00-1de1-4aea-bc13-6be3fadf0d54",
   "metadata": {},
   "outputs": [],
   "source": [
    "prefix = \"Identify the sentiment of the user review.  Here are some examples: \"\n",
    "suffix = \"\"\"\n",
    "User: {review}\n",
    "AI: \"\"\""
   ]
  },
  {
   "cell_type": "code",
   "execution_count": 9,
   "id": "3cc11786-05c4-4585-847d-641f0471da57",
   "metadata": {},
   "outputs": [],
   "source": [
    "few_shot_prompt_template = FewShotPromptTemplate(\n",
    "    examples=examples,\n",
    "    example_prompt=example_prompt,\n",
    "    prefix=prefix,\n",
    "    suffix=suffix,\n",
    "    input_variables=[\"review\"],\n",
    "    example_separator=\"\\n\"\n",
    ")"
   ]
  },
  {
   "cell_type": "code",
   "execution_count": 23,
   "id": "72f6ad67-ea1c-4159-91bf-3b127b7320c2",
   "metadata": {},
   "outputs": [],
   "source": [
    "messages = few_shot_prompt_template.format(review=\"It's a place\")"
   ]
  },
  {
   "cell_type": "code",
   "execution_count": 24,
   "id": "3b8860b2-56d1-444c-9f34-7b6a2481ea0a",
   "metadata": {},
   "outputs": [],
   "source": [
    "from langchain_openai import ChatOpenAI"
   ]
  },
  {
   "cell_type": "code",
   "execution_count": 25,
   "id": "8bdac4b1-2064-4beb-bd4c-02215eb69fd4",
   "metadata": {},
   "outputs": [],
   "source": [
    "chat = ChatOpenAI()"
   ]
  },
  {
   "cell_type": "code",
   "execution_count": 26,
   "id": "bea272c3-e80b-4da7-90b8-2069737f06d7",
   "metadata": {},
   "outputs": [
    {
     "data": {
      "text/plain": [
       "'neutral'"
      ]
     },
     "execution_count": 26,
     "metadata": {},
     "output_type": "execute_result"
    }
   ],
   "source": [
    "chat.invoke(messages).content"
   ]
  },
  {
   "cell_type": "code",
   "execution_count": null,
   "id": "33b9886d-9fe0-403b-87e4-c5c213e9a3bf",
   "metadata": {},
   "outputs": [],
   "source": []
  }
 ],
 "metadata": {
  "kernelspec": {
   "display_name": "Python 3 (ipykernel)",
   "language": "python",
   "name": "python3"
  },
  "language_info": {
   "codemirror_mode": {
    "name": "ipython",
    "version": 3
   },
   "file_extension": ".py",
   "mimetype": "text/x-python",
   "name": "python",
   "nbconvert_exporter": "python",
   "pygments_lexer": "ipython3",
   "version": "3.12.4"
  }
 },
 "nbformat": 4,
 "nbformat_minor": 5
}
