{
 "cells": [
  {
   "cell_type": "markdown",
   "id": "5d749459-8e8b-483d-9add-f2151cc8cbf6",
   "metadata": {},
   "source": [
    "## Recursively split by character"
   ]
  },
  {
   "cell_type": "code",
   "execution_count": 1,
   "id": "43fbd6f9-4d04-47f2-8e43-2693e4d3dc78",
   "metadata": {},
   "outputs": [],
   "source": [
    "from langchain_community.document_loaders import TextLoader"
   ]
  },
  {
   "cell_type": "code",
   "execution_count": 2,
   "id": "1f919bef-8ba3-4c34-b2e6-8113a35cf4fd",
   "metadata": {},
   "outputs": [],
   "source": [
    "loader = TextLoader(\"./files/LangchainRetrieval.txt\")"
   ]
  },
  {
   "cell_type": "code",
   "execution_count": 3,
   "id": "f90c0e09-0a3c-4ba1-9c8a-cf46bfa1b2f0",
   "metadata": {},
   "outputs": [],
   "source": [
    "text = loader.load()"
   ]
  },
  {
   "cell_type": "code",
   "execution_count": 4,
   "id": "09782251-0f34-406e-9a13-6b4b5726a100",
   "metadata": {},
   "outputs": [],
   "source": [
    "from langchain_text_splitters import RecursiveCharacterTextSplitter"
   ]
  },
  {
   "cell_type": "code",
   "execution_count": 8,
   "id": "8e87fd2b-ebd2-4e82-a875-ae38ecab35fd",
   "metadata": {},
   "outputs": [],
   "source": [
    "text_splitter = RecursiveCharacterTextSplitter(\n",
    "    chunk_size=200,\n",
    "    chunk_overlap=20,\n",
    "    length_function=len\n",
    ")"
   ]
  },
  {
   "cell_type": "code",
   "execution_count": 9,
   "id": "3dc76f61-ffb2-42dd-93e3-b2b7d0d6ead5",
   "metadata": {},
   "outputs": [],
   "source": [
    "docs = text_splitter.split_documents(text)"
   ]
  },
  {
   "cell_type": "code",
   "execution_count": 10,
   "id": "21d89612-005d-43bc-878f-2282190afa0e",
   "metadata": {},
   "outputs": [
    {
     "data": {
      "text/plain": [
       "[Document(metadata={'source': './files/LangchainRetrieval.txt'}, page_content='Retrieval'),\n",
       " Document(metadata={'source': './files/LangchainRetrieval.txt'}, page_content=\"Many LLM applications require user-specific data that is not part of the model's training set. The primary way of accomplishing this is through Retrieval Augmented Generation (RAG). In this process,\"),\n",
       " Document(metadata={'source': './files/LangchainRetrieval.txt'}, page_content='In this process, external data is retrieved and then passed to the LLM when doing the generation step.'),\n",
       " Document(metadata={'source': './files/LangchainRetrieval.txt'}, page_content='LangChain provides all the building blocks for RAG applications - from simple to complex. This section of the documentation covers everything related to the retrieval step - e.g. the fetching of the'),\n",
       " Document(metadata={'source': './files/LangchainRetrieval.txt'}, page_content='the fetching of the data. Although this sounds simple, it can be subtly complex. This encompasses several key modules.'),\n",
       " Document(metadata={'source': './files/LangchainRetrieval.txt'}, page_content='Illustrative diagram showing the data connection process with steps: Source, Load, Transform, Embed, Store, and Retrieve.'),\n",
       " Document(metadata={'source': './files/LangchainRetrieval.txt'}, page_content='Document loaders'),\n",
       " Document(metadata={'source': './files/LangchainRetrieval.txt'}, page_content='Document loaders load documents from many different sources. LangChain provides over 100 different document loaders as well as integrations with other major providers in the space, like AirByte and'),\n",
       " Document(metadata={'source': './files/LangchainRetrieval.txt'}, page_content='like AirByte and Unstructured. LangChain provides integrations to load all types of documents (HTML, PDF, code) from all types of locations (private S3 buckets, public websites).'),\n",
       " Document(metadata={'source': './files/LangchainRetrieval.txt'}, page_content='Text Splitting'),\n",
       " Document(metadata={'source': './files/LangchainRetrieval.txt'}, page_content='A key part of retrieval is fetching only the relevant parts of documents. This involves several transformation steps to prepare the documents for retrieval. One of the primary ones here is splitting'),\n",
       " Document(metadata={'source': './files/LangchainRetrieval.txt'}, page_content='here is splitting (or chunking) a large document into smaller chunks. LangChain provides several transformation algorithms for doing this, as well as logic optimized for specific document types'),\n",
       " Document(metadata={'source': './files/LangchainRetrieval.txt'}, page_content='document types (code, markdown, etc).'),\n",
       " Document(metadata={'source': './files/LangchainRetrieval.txt'}, page_content='Text embedding models'),\n",
       " Document(metadata={'source': './files/LangchainRetrieval.txt'}, page_content='Another key part of retrieval is creating embeddings for documents. Embeddings capture the semantic meaning of the text, allowing you to quickly and efficiently find other pieces of a text that are'),\n",
       " Document(metadata={'source': './files/LangchainRetrieval.txt'}, page_content='of a text that are similar. LangChain provides integrations with over 25 different embedding providers and methods, from open-source to proprietary API, allowing you to choose the one best suited for'),\n",
       " Document(metadata={'source': './files/LangchainRetrieval.txt'}, page_content='one best suited for your needs. LangChain provides a standard interface, allowing you to easily swap between models.'),\n",
       " Document(metadata={'source': './files/LangchainRetrieval.txt'}, page_content='Vector stores'),\n",
       " Document(metadata={'source': './files/LangchainRetrieval.txt'}, page_content='With the rise of embeddings, there has emerged a need for databases to support efficient storage and searching of these embeddings. LangChain provides integrations with over 50 different'),\n",
       " Document(metadata={'source': './files/LangchainRetrieval.txt'}, page_content='over 50 different vectorstores, from open-source local ones to cloud-hosted proprietary ones, allowing you to choose the one best suited for your needs. LangChain exposes a standard interface,'),\n",
       " Document(metadata={'source': './files/LangchainRetrieval.txt'}, page_content='standard interface, allowing you to easily swap between vector stores.'),\n",
       " Document(metadata={'source': './files/LangchainRetrieval.txt'}, page_content='Retrievers'),\n",
       " Document(metadata={'source': './files/LangchainRetrieval.txt'}, page_content='Once the data is in the database, you still need to retrieve it. LangChain supports many different retrieval algorithms and is one of the places where we add the most value. LangChain supports basic'),\n",
       " Document(metadata={'source': './files/LangchainRetrieval.txt'}, page_content='supports basic methods that are easy to get started - namely simple semantic search. However, we have also added a collection of algorithms on top of this to increase performance. These include:'),\n",
       " Document(metadata={'source': './files/LangchainRetrieval.txt'}, page_content='Parent Document Retriever: This allows you to create multiple embeddings per parent document, allowing you to look up smaller chunks but return larger context.'),\n",
       " Document(metadata={'source': './files/LangchainRetrieval.txt'}, page_content=\"Self Query Retriever: User questions often contain a reference to something that isn't just semantic but rather expresses some logic that can best be represented as a metadata filter. Self-query\"),\n",
       " Document(metadata={'source': './files/LangchainRetrieval.txt'}, page_content='filter. Self-query allows you to parse out the semantic part of a query from other metadata filters present in the query.'),\n",
       " Document(metadata={'source': './files/LangchainRetrieval.txt'}, page_content='Ensemble Retriever: Sometimes you may want to retrieve documents from multiple different sources, or using multiple different algorithms. The ensemble retriever allows you to easily do this.'),\n",
       " Document(metadata={'source': './files/LangchainRetrieval.txt'}, page_content='And more!\\nIndexing\\nThe LangChain Indexing API syncs your data from any source into a vector store, helping you:'),\n",
       " Document(metadata={'source': './files/LangchainRetrieval.txt'}, page_content='Avoid writing duplicated content into the vector store\\nAvoid re-writing unchanged content\\nAvoid re-computing embeddings over unchanged content'),\n",
       " Document(metadata={'source': './files/LangchainRetrieval.txt'}, page_content='All of which should save you time and money, as well as improve your vector search results.')]"
      ]
     },
     "execution_count": 10,
     "metadata": {},
     "output_type": "execute_result"
    }
   ],
   "source": [
    "docs"
   ]
  },
  {
   "cell_type": "code",
   "execution_count": null,
   "id": "bd3f71af-d80a-4228-80db-a09a9d58d8a3",
   "metadata": {},
   "outputs": [],
   "source": []
  }
 ],
 "metadata": {
  "kernelspec": {
   "display_name": "Python 3 (ipykernel)",
   "language": "python",
   "name": "python3"
  },
  "language_info": {
   "codemirror_mode": {
    "name": "ipython",
    "version": 3
   },
   "file_extension": ".py",
   "mimetype": "text/x-python",
   "name": "python",
   "nbconvert_exporter": "python",
   "pygments_lexer": "ipython3",
   "version": "3.12.4"
  }
 },
 "nbformat": 4,
 "nbformat_minor": 5
}
