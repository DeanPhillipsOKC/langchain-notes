{
 "cells": [
  {
   "cell_type": "code",
   "execution_count": 1,
   "id": "df17a6e0-14a9-46a6-880b-e5630466c843",
   "metadata": {},
   "outputs": [],
   "source": [
    "from langchain.memory import ConversationSummaryMemory"
   ]
  },
  {
   "cell_type": "code",
   "execution_count": 2,
   "id": "48778a66-8732-4cfd-a148-31b9210d697d",
   "metadata": {},
   "outputs": [],
   "source": [
    "from langchain_openai import ChatOpenAI"
   ]
  },
  {
   "cell_type": "code",
   "execution_count": 3,
   "id": "25ebf4a5-08da-4ce3-9800-c12a110bcd13",
   "metadata": {},
   "outputs": [],
   "source": [
    "llm = ChatOpenAI()"
   ]
  },
  {
   "cell_type": "code",
   "execution_count": 4,
   "id": "06e0d42a-a7e7-4c10-a88f-6b625edbbd13",
   "metadata": {},
   "outputs": [],
   "source": [
    "memory = ConversationSummaryMemory(llm=llm)"
   ]
  },
  {
   "cell_type": "code",
   "execution_count": 5,
   "id": "90b7c0e8-0d4e-4ea4-aadb-81dba693c5a5",
   "metadata": {},
   "outputs": [],
   "source": [
    "from langchain.chains import ConversationChain"
   ]
  },
  {
   "cell_type": "code",
   "execution_count": 7,
   "id": "c2302122-8adf-4ab7-8e76-8afd34bed03c",
   "metadata": {},
   "outputs": [],
   "source": [
    "chain = ConversationChain(llm=llm, memory=memory, verbose=True)"
   ]
  },
  {
   "cell_type": "code",
   "execution_count": 8,
   "id": "9e3abe47-ebcd-4444-8ca0-5fc300a0fa5c",
   "metadata": {},
   "outputs": [
    {
     "name": "stdout",
     "output_type": "stream",
     "text": [
      "\n",
      "\n",
      "\u001b[1m> Entering new ConversationChain chain...\u001b[0m\n",
      "Prompt after formatting:\n",
      "\u001b[32;1m\u001b[1;3mThe following is a friendly conversation between a human and an AI. The AI is talkative and provides lots of specific details from its context. If the AI does not know the answer to a question, it truthfully says it does not know.\n",
      "\n",
      "Current conversation:\n",
      "\n",
      "Human: Which country is the biggest exporter of cotton?\n",
      "AI:\u001b[0m\n",
      "\n",
      "\u001b[1m> Finished chain.\u001b[0m\n"
     ]
    },
    {
     "data": {
      "text/plain": [
       "{'input': 'Which country is the biggest exporter of cotton?',\n",
       " 'history': '',\n",
       " 'response': \"The biggest exporter of cotton is India, followed by the United States and Brazil. India is known for its long-staple cotton varieties, such as ELS cotton, which are highly sought after in the global market. The country's large production capacity and favorable climate conditions make it a major player in the cotton export industry.\"}"
      ]
     },
     "execution_count": 8,
     "metadata": {},
     "output_type": "execute_result"
    }
   ],
   "source": [
    "chain.invoke(\"Which country is the biggest exporter of cotton?\")"
   ]
  },
  {
   "cell_type": "code",
   "execution_count": 9,
   "id": "7f6770a7-3435-45eb-a5fb-0d0f36b245e3",
   "metadata": {},
   "outputs": [
    {
     "name": "stdout",
     "output_type": "stream",
     "text": [
      "\n",
      "\n",
      "\u001b[1m> Entering new ConversationChain chain...\u001b[0m\n",
      "Prompt after formatting:\n",
      "\u001b[32;1m\u001b[1;3mThe following is a friendly conversation between a human and an AI. The AI is talkative and provides lots of specific details from its context. If the AI does not know the answer to a question, it truthfully says it does not know.\n",
      "\n",
      "Current conversation:\n",
      "The human asks which country is the biggest exporter of cotton. The AI responds that India is the largest exporter of cotton, followed by the United States and Brazil. India's production capacity, favorable climate conditions, and high-quality cotton varieties make it a key player in the global cotton export industry.\n",
      "Human: How much do they produce in kilograms?\n",
      "AI:\u001b[0m\n",
      "\n",
      "\u001b[1m> Finished chain.\u001b[0m\n"
     ]
    },
    {
     "data": {
      "text/plain": [
       "{'input': 'How much do they produce in kilograms?',\n",
       " 'history': \"The human asks which country is the biggest exporter of cotton. The AI responds that India is the largest exporter of cotton, followed by the United States and Brazil. India's production capacity, favorable climate conditions, and high-quality cotton varieties make it a key player in the global cotton export industry.\",\n",
       " 'response': 'India produces approximately 6.2 million metric tons of cotton, which is equivalent to 6.2 billion kilograms. This accounts for around 25% of the global cotton production.'}"
      ]
     },
     "execution_count": 9,
     "metadata": {},
     "output_type": "execute_result"
    }
   ],
   "source": [
    "chain.invoke(\"How much do they produce in kilograms?\")"
   ]
  },
  {
   "cell_type": "code",
   "execution_count": 10,
   "id": "710f252c-9f48-42a8-88f2-211d490c6ba1",
   "metadata": {},
   "outputs": [
    {
     "name": "stdout",
     "output_type": "stream",
     "text": [
      "\n",
      "\n",
      "\u001b[1m> Entering new ConversationChain chain...\u001b[0m\n",
      "Prompt after formatting:\n",
      "\u001b[32;1m\u001b[1;3mThe following is a friendly conversation between a human and an AI. The AI is talkative and provides lots of specific details from its context. If the AI does not know the answer to a question, it truthfully says it does not know.\n",
      "\n",
      "Current conversation:\n",
      "The human asks which country is the biggest exporter of cotton. The AI responds that India is the largest exporter of cotton, followed by the United States and Brazil. India's production capacity, favorable climate conditions, and high-quality cotton varieties make it a key player in the global cotton export industry. India produces approximately 6.2 million metric tons of cotton, which is equivalent to 6.2 billion kilograms. This accounts for around 25% of the global cotton production.\n",
      "Human: Who is their leader?\n",
      "AI:\u001b[0m\n",
      "\n",
      "\u001b[1m> Finished chain.\u001b[0m\n"
     ]
    },
    {
     "data": {
      "text/plain": [
       "{'input': 'Who is their leader?',\n",
       " 'history': \"The human asks which country is the biggest exporter of cotton. The AI responds that India is the largest exporter of cotton, followed by the United States and Brazil. India's production capacity, favorable climate conditions, and high-quality cotton varieties make it a key player in the global cotton export industry. India produces approximately 6.2 million metric tons of cotton, which is equivalent to 6.2 billion kilograms. This accounts for around 25% of the global cotton production.\",\n",
       " 'response': \"India's current Prime Minister is Narendra Modi.\"}"
      ]
     },
     "execution_count": 10,
     "metadata": {},
     "output_type": "execute_result"
    }
   ],
   "source": [
    "chain.invoke(\"Who is their leader?\")"
   ]
  },
  {
   "cell_type": "code",
   "execution_count": 12,
   "id": "8d6687eb-f699-4954-817d-196a61f808f1",
   "metadata": {},
   "outputs": [
    {
     "name": "stdout",
     "output_type": "stream",
     "text": [
      "\n",
      "\n",
      "\u001b[1m> Entering new ConversationChain chain...\u001b[0m\n",
      "Prompt after formatting:\n",
      "\u001b[32;1m\u001b[1;3mThe following is a friendly conversation between a human and an AI. The AI is talkative and provides lots of specific details from its context. If the AI does not know the answer to a question, it truthfully says it does not know.\n",
      "\n",
      "Current conversation:\n",
      "The human asks which country is the biggest exporter of cotton. The AI responds that India is the largest exporter of cotton, followed by the United States and Brazil, due to its production capacity, climate conditions, and high-quality cotton varieties. India produces around 6.2 million metric tons of cotton, accounting for 25% of global production. The conversation shifts to discussing India's leader, with the AI mentioning that Prime Minister Narendra Modi currently leads the country.\n",
      "Human: Who is their most famous celebrity?\n",
      "AI:\u001b[0m\n",
      "\n",
      "\u001b[1m> Finished chain.\u001b[0m\n"
     ]
    },
    {
     "data": {
      "text/plain": [
       "{'input': 'Who is their most famous celebrity?',\n",
       " 'history': \"The human asks which country is the biggest exporter of cotton. The AI responds that India is the largest exporter of cotton, followed by the United States and Brazil, due to its production capacity, climate conditions, and high-quality cotton varieties. India produces around 6.2 million metric tons of cotton, accounting for 25% of global production. The conversation shifts to discussing India's leader, with the AI mentioning that Prime Minister Narendra Modi currently leads the country.\",\n",
       " 'response': \"One of India's most famous celebrities is Bollywood actor Shah Rukh Khan. He is known for his acting skills, charisma, and global fan following. Shah Rukh Khan has appeared in numerous successful films and has a significant influence on Indian popular culture.\"}"
      ]
     },
     "execution_count": 12,
     "metadata": {},
     "output_type": "execute_result"
    }
   ],
   "source": [
    "chain.invoke(\"Who is their most famous celebrity?\")"
   ]
  },
  {
   "cell_type": "code",
   "execution_count": null,
   "id": "3f7eb507-481d-4611-9abb-550cb0757562",
   "metadata": {},
   "outputs": [],
   "source": []
  }
 ],
 "metadata": {
  "kernelspec": {
   "display_name": "Python 3 (ipykernel)",
   "language": "python",
   "name": "python3"
  },
  "language_info": {
   "codemirror_mode": {
    "name": "ipython",
    "version": 3
   },
   "file_extension": ".py",
   "mimetype": "text/x-python",
   "name": "python",
   "nbconvert_exporter": "python",
   "pygments_lexer": "ipython3",
   "version": "3.12.4"
  }
 },
 "nbformat": 4,
 "nbformat_minor": 5
}
