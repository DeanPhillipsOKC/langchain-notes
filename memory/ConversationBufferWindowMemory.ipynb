{
 "cells": [
  {
   "cell_type": "code",
   "execution_count": 1,
   "id": "dda5aad5-84ee-4bab-a5e5-274a3dc52d33",
   "metadata": {},
   "outputs": [],
   "source": [
    "from langchain.memory import ConversationBufferWindowMemory"
   ]
  },
  {
   "cell_type": "code",
   "execution_count": 20,
   "id": "aa86262d-2e1c-477f-b8ae-5dad454da47a",
   "metadata": {},
   "outputs": [],
   "source": [
    "memory = ConversationBufferWindowMemory(k=1)"
   ]
  },
  {
   "cell_type": "code",
   "execution_count": 21,
   "id": "a86ec435-9ca9-4143-b727-d1ba4406d531",
   "metadata": {},
   "outputs": [],
   "source": [
    "from langchain_openai import ChatOpenAI"
   ]
  },
  {
   "cell_type": "code",
   "execution_count": 22,
   "id": "a5c0685d-b1f7-4063-9bef-4c8092062f59",
   "metadata": {},
   "outputs": [],
   "source": [
    "llm = ChatOpenAI()"
   ]
  },
  {
   "cell_type": "code",
   "execution_count": 23,
   "id": "586c7aef-43da-4397-b8f0-9e9e4b27e654",
   "metadata": {},
   "outputs": [],
   "source": [
    "from langchain.chains import ConversationChain"
   ]
  },
  {
   "cell_type": "code",
   "execution_count": 24,
   "id": "233741a8-fc9a-46ae-8c10-db68c0ef781f",
   "metadata": {},
   "outputs": [],
   "source": [
    "chain = ConversationChain(llm=llm, memory=memory)"
   ]
  },
  {
   "cell_type": "code",
   "execution_count": 25,
   "id": "d0cde0d9-c406-4d95-a736-2fc105a45680",
   "metadata": {},
   "outputs": [
    {
     "data": {
      "text/plain": [
       "{'input': 'Who is the largest producer of cotton?',\n",
       " 'history': '',\n",
       " 'response': 'The largest producer of cotton in the world is China, followed by India and the United States. China produces over 26 million metric tons of cotton annually, making it the top producer globally.'}"
      ]
     },
     "execution_count": 25,
     "metadata": {},
     "output_type": "execute_result"
    }
   ],
   "source": [
    "chain.invoke(\"Who is the largest producer of cotton?\")"
   ]
  },
  {
   "cell_type": "code",
   "execution_count": 26,
   "id": "4b413c84-db1b-417e-a8de-5a15833a7c42",
   "metadata": {},
   "outputs": [
    {
     "name": "stdout",
     "output_type": "stream",
     "text": [
      "Human: Who is the largest producer of cotton?\n",
      "AI: The largest producer of cotton in the world is China, followed by India and the United States. China produces over 26 million metric tons of cotton annually, making it the top producer globally.\n"
     ]
    }
   ],
   "source": [
    "print(chain.memory.buffer)"
   ]
  },
  {
   "cell_type": "code",
   "execution_count": 27,
   "id": "e1a9ee8d-57a0-4f2e-914d-858492467de6",
   "metadata": {},
   "outputs": [
    {
     "data": {
      "text/plain": [
       "{'input': 'How much do they produce?',\n",
       " 'history': 'Human: Who is the largest producer of cotton?\\nAI: The largest producer of cotton in the world is China, followed by India and the United States. China produces over 26 million metric tons of cotton annually, making it the top producer globally.',\n",
       " 'response': 'China produces over 26 million metric tons of cotton annually, India produces around 6 million metric tons, and the United States produces about 3.5 million metric tons.'}"
      ]
     },
     "execution_count": 27,
     "metadata": {},
     "output_type": "execute_result"
    }
   ],
   "source": [
    "chain.invoke(\"How much do they produce?\")"
   ]
  },
  {
   "cell_type": "code",
   "execution_count": 28,
   "id": "dafa2d38-96c9-4c53-8a5f-9b5bc2149901",
   "metadata": {},
   "outputs": [
    {
     "name": "stdout",
     "output_type": "stream",
     "text": [
      "Human: How much do they produce?\n",
      "AI: China produces over 26 million metric tons of cotton annually, India produces around 6 million metric tons, and the United States produces about 3.5 million metric tons.\n"
     ]
    }
   ],
   "source": [
    "print(chain.memory.buffer)"
   ]
  },
  {
   "cell_type": "code",
   "execution_count": null,
   "id": "d602a975-50aa-4100-885a-8f40d8ccae51",
   "metadata": {},
   "outputs": [],
   "source": []
  }
 ],
 "metadata": {
  "kernelspec": {
   "display_name": "Python 3 (ipykernel)",
   "language": "python",
   "name": "python3"
  },
  "language_info": {
   "codemirror_mode": {
    "name": "ipython",
    "version": 3
   },
   "file_extension": ".py",
   "mimetype": "text/x-python",
   "name": "python",
   "nbconvert_exporter": "python",
   "pygments_lexer": "ipython3",
   "version": "3.12.4"
  }
 },
 "nbformat": 4,
 "nbformat_minor": 5
}
