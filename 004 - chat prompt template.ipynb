{
 "cells": [
  {
   "cell_type": "code",
   "execution_count": 2,
   "id": "654ad7db-847e-4865-bbf4-441391039759",
   "metadata": {},
   "outputs": [],
   "source": [
    "from langchain_core.prompts import ChatPromptTemplate"
   ]
  },
  {
   "cell_type": "markdown",
   "id": "b0b8a1d7-77ba-476b-952a-895d4cb64028",
   "metadata": {},
   "source": [
    "## Manual Method"
   ]
  },
  {
   "cell_type": "code",
   "execution_count": 4,
   "id": "56b78759-7e06-4841-a7b1-b5553c763a0f",
   "metadata": {},
   "outputs": [],
   "source": [
    "chat_template = ChatPromptTemplate.from_messages(\n",
    "    [\n",
    "        (\"system\", \"You are a helpful assistant that gives a one-line answer to user queries\"),\n",
    "        (\"human\", \"Who created the theory of general relativity?\"),\n",
    "        (\"ai\", \"Albert Einstein developed the theory of relativity\"),\n",
    "        (\"human\", \"{query}\")\n",
    "    ]\n",
    ")"
   ]
  },
  {
   "cell_type": "code",
   "execution_count": 6,
   "id": "fb6b8867-0ef7-450e-9a3d-6f293d2a414b",
   "metadata": {},
   "outputs": [],
   "source": [
    "chat_messages = chat_template.format_messages(query=\"When was it developed?\")"
   ]
  },
  {
   "cell_type": "code",
   "execution_count": 7,
   "id": "6e66b111-e3a9-4b54-b32f-0a9627c11d4d",
   "metadata": {},
   "outputs": [],
   "source": [
    "from langchain_openai import ChatOpenAI"
   ]
  },
  {
   "cell_type": "code",
   "execution_count": 8,
   "id": "d7a5f1f6-6afc-440a-ad83-bc8b80deb5c0",
   "metadata": {},
   "outputs": [],
   "source": [
    "chat = ChatOpenAI()"
   ]
  },
  {
   "cell_type": "code",
   "execution_count": 10,
   "id": "592291cf-df7b-4d1a-9625-9b51e1cb6ee3",
   "metadata": {},
   "outputs": [
    {
     "data": {
      "text/plain": [
       "'The theory of general relativity was developed by Albert Einstein in 1915.'"
      ]
     },
     "execution_count": 10,
     "metadata": {},
     "output_type": "execute_result"
    }
   ],
   "source": [
    "chat.invoke(chat_messages).content"
   ]
  },
  {
   "cell_type": "markdown",
   "id": "0bb26c97-9435-4ce1-8a51-4599b9a5ed37",
   "metadata": {},
   "source": [
    "## Message prompt templates"
   ]
  },
  {
   "cell_type": "code",
   "execution_count": 11,
   "id": "ca582a2f-8ac8-45b1-a7d9-ea651678c31e",
   "metadata": {},
   "outputs": [],
   "source": [
    "from langchain_core.prompts import HumanMessagePromptTemplate, AIMessagePromptTemplate, SystemMessagePromptTemplate"
   ]
  },
  {
   "cell_type": "code",
   "execution_count": 16,
   "id": "6ad4e0d4-6858-41a8-a1d0-df0255cdf7ea",
   "metadata": {},
   "outputs": [],
   "source": [
    "chat_template = ChatPromptTemplate.from_messages(\n",
    "    [\n",
    "        SystemMessagePromptTemplate.from_template(\"You are a helpful assistant that gives a one-line answer to user queries\"),\n",
    "        HumanMessagePromptTemplate.from_template(\"Who created the theory of general relativity?\"),\n",
    "        AIMessagePromptTemplate.from_template(\"Albert Einstein\"),\n",
    "        HumanMessagePromptTemplate.from_template(\"{query}\")\n",
    "    ]\n",
    ")"
   ]
  },
  {
   "cell_type": "code",
   "execution_count": 17,
   "id": "4f466eed-755d-4177-b244-8a44ae3b9098",
   "metadata": {},
   "outputs": [],
   "source": [
    "chat_messages = chat_template.format_messages(query=\"Why did he do it?\")"
   ]
  },
  {
   "cell_type": "code",
   "execution_count": 18,
   "id": "03954fa6-b69a-4243-8a5c-f8806e472f59",
   "metadata": {},
   "outputs": [
    {
     "data": {
      "text/plain": [
       "'To explain the behavior of gravity and motion in the universe.'"
      ]
     },
     "execution_count": 18,
     "metadata": {},
     "output_type": "execute_result"
    }
   ],
   "source": [
    "chat.invoke(chat_messages).content"
   ]
  },
  {
   "cell_type": "code",
   "execution_count": null,
   "id": "63b1cfb0-0668-4928-9255-07085cb51794",
   "metadata": {},
   "outputs": [],
   "source": []
  }
 ],
 "metadata": {
  "kernelspec": {
   "display_name": "Python 3 (ipykernel)",
   "language": "python",
   "name": "python3"
  },
  "language_info": {
   "codemirror_mode": {
    "name": "ipython",
    "version": 3
   },
   "file_extension": ".py",
   "mimetype": "text/x-python",
   "name": "python",
   "nbconvert_exporter": "python",
   "pygments_lexer": "ipython3",
   "version": "3.12.4"
  }
 },
 "nbformat": 4,
 "nbformat_minor": 5
}
