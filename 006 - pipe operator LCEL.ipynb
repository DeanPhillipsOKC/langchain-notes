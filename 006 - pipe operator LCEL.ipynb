{
 "cells": [
  {
   "cell_type": "code",
   "execution_count": 2,
   "id": "1bd80103-6287-4b6c-ad8f-620679f11c02",
   "metadata": {},
   "outputs": [],
   "source": [
    "from langchain import PromptTemplate"
   ]
  },
  {
   "cell_type": "code",
   "execution_count": 5,
   "id": "3c08812a-b98a-483b-8d40-5b1a87574eb5",
   "metadata": {},
   "outputs": [],
   "source": [
    "dictionary_template = PromptTemplate(\n",
    "    input_variables=[\"word\"],\n",
    "    template=\"Create a dictionary entry for {word}.  Please make sure it includes an example of how it is used in a sentence\"\n",
    ")"
   ]
  },
  {
   "cell_type": "code",
   "execution_count": 6,
   "id": "8739e2d6-1fbb-4d88-b764-1ef835377913",
   "metadata": {},
   "outputs": [],
   "source": [
    "from langchain_openai import ChatOpenAI"
   ]
  },
  {
   "cell_type": "code",
   "execution_count": 7,
   "id": "fc675190-b4b4-4920-812c-625c8e0b669c",
   "metadata": {},
   "outputs": [],
   "source": [
    "chat = ChatOpenAI()"
   ]
  },
  {
   "cell_type": "code",
   "execution_count": 8,
   "id": "cc13befc-f90f-45ae-97a4-638c21c3139f",
   "metadata": {},
   "outputs": [],
   "source": [
    "from langchain_core.output_parsers import StrOutputParser"
   ]
  },
  {
   "cell_type": "code",
   "execution_count": 10,
   "id": "c6252eab-c5bd-4365-a3cc-263d7648dd0c",
   "metadata": {},
   "outputs": [],
   "source": [
    "chain = dictionary_template | chat | StrOutputParser()"
   ]
  },
  {
   "cell_type": "code",
   "execution_count": 12,
   "id": "62c62e68-84a2-4145-a59a-879870ace3b2",
   "metadata": {},
   "outputs": [
    {
     "data": {
      "text/plain": [
       "'Laggard (noun)\\n\\nDefinition: A person who is slow or falls behind in progress, development, or achievement.\\n\\nExample: The laggard in the group struggled to keep up with the rest of the team during the race.'"
      ]
     },
     "execution_count": 12,
     "metadata": {},
     "output_type": "execute_result"
    }
   ],
   "source": [
    "chain.invoke({\"word\": \"laggard\"})"
   ]
  },
  {
   "cell_type": "code",
   "execution_count": null,
   "id": "8fcb492e-9ea0-4ff1-8afd-fa55783eaca0",
   "metadata": {},
   "outputs": [],
   "source": []
  }
 ],
 "metadata": {
  "kernelspec": {
   "display_name": "Python 3 (ipykernel)",
   "language": "python",
   "name": "python3"
  },
  "language_info": {
   "codemirror_mode": {
    "name": "ipython",
    "version": 3
   },
   "file_extension": ".py",
   "mimetype": "text/x-python",
   "name": "python",
   "nbconvert_exporter": "python",
   "pygments_lexer": "ipython3",
   "version": "3.12.4"
  }
 },
 "nbformat": 4,
 "nbformat_minor": 5
}
