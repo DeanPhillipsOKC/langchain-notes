{
 "cells": [
  {
   "cell_type": "code",
   "execution_count": 2,
   "id": "c5cd5039-dd81-4fde-b6e8-2ba28327b3c7",
   "metadata": {},
   "outputs": [],
   "source": [
    "from langchain_openai import ChatOpenAI"
   ]
  },
  {
   "cell_type": "code",
   "execution_count": 3,
   "id": "bf8cc84c-156e-4594-b962-7c73f9d2b83a",
   "metadata": {},
   "outputs": [],
   "source": [
    "messages = [\n",
    "    (\n",
    "        \"system\",\n",
    "        \"You are a travel agent that helps make travel plans.  Restrict output to a single line\"\n",
    "    ),\n",
    "    (\n",
    "        \"human\",\n",
    "        \"What city should I travel to for a great skiing adventure?\"\n",
    "    )\n",
    "]"
   ]
  },
  {
   "cell_type": "code",
   "execution_count": 4,
   "id": "38e2c97f-b564-45c6-a9f8-6aa634723f57",
   "metadata": {},
   "outputs": [],
   "source": [
    "chat = ChatOpenAI()"
   ]
  },
  {
   "cell_type": "code",
   "execution_count": 5,
   "id": "9c0e034d-8d83-4148-9b04-aa1d366951e3",
   "metadata": {},
   "outputs": [
    {
     "data": {
      "text/plain": [
       "AIMessage(content='You should travel to Aspen, Colorado for a great skiing adventure.', response_metadata={'token_usage': {'completion_tokens': 13, 'prompt_tokens': 42, 'total_tokens': 55}, 'model_name': 'gpt-3.5-turbo-0125', 'system_fingerprint': None, 'finish_reason': 'stop', 'logprobs': None}, id='run-17d7b6af-21f3-482c-9ee9-77c705d5905c-0', usage_metadata={'input_tokens': 42, 'output_tokens': 13, 'total_tokens': 55})"
      ]
     },
     "execution_count": 5,
     "metadata": {},
     "output_type": "execute_result"
    }
   ],
   "source": [
    "chat.invoke(messages)"
   ]
  },
  {
   "cell_type": "markdown",
   "id": "96238f15-fece-464f-bb44-3782475c25f8",
   "metadata": {},
   "source": [
    "## Chat vs LLM in Langchain"
   ]
  },
  {
   "cell_type": "code",
   "execution_count": 7,
   "id": "e8ab923c-15cb-49bd-95f1-85a9771a2734",
   "metadata": {},
   "outputs": [],
   "source": [
    "from langchain_openai import OpenAI"
   ]
  },
  {
   "cell_type": "code",
   "execution_count": 8,
   "id": "42f49e3b-2a87-4519-a227-fcf367c75ca5",
   "metadata": {},
   "outputs": [],
   "source": [
    "llm = OpenAI()"
   ]
  },
  {
   "cell_type": "code",
   "execution_count": 10,
   "id": "74fea2b4-4e89-47e9-9339-79cd7c84d7d7",
   "metadata": {},
   "outputs": [
    {
     "name": "stdout",
     "output_type": "stream",
     "text": [
      "\n",
      "\n",
      "The best city to go skiing in will depend on personal preference and factors such as budget, skill level, and preferred type of skiing. Some popular cities for skiing include:\n",
      "\n",
      "1. Whistler, British Columbia, Canada\n",
      "2. Aspen, Colorado, USA\n",
      "3. Chamonix, France\n",
      "4. St. Moritz, Switzerland\n",
      "5. Innsbruck, Austria\n",
      "6. Niseko, Japan\n",
      "7. Zermatt, Switzerland\n",
      "8. Banff, Alberta, Canada\n",
      "9. Park City, Utah, USA\n",
      "10. Jackson Hole, Wyoming, USA.\n"
     ]
    }
   ],
   "source": [
    "print(llm.predict(\"What is the best city to go skiing in?\"))"
   ]
  },
  {
   "cell_type": "code",
   "execution_count": null,
   "id": "c7f7ecb0-747b-4056-83a3-4d607eaef965",
   "metadata": {},
   "outputs": [],
   "source": []
  }
 ],
 "metadata": {
  "kernelspec": {
   "display_name": "Python 3 (ipykernel)",
   "language": "python",
   "name": "python3"
  },
  "language_info": {
   "codemirror_mode": {
    "name": "ipython",
    "version": 3
   },
   "file_extension": ".py",
   "mimetype": "text/x-python",
   "name": "python",
   "nbconvert_exporter": "python",
   "pygments_lexer": "ipython3",
   "version": "3.12.4"
  }
 },
 "nbformat": 4,
 "nbformat_minor": 5
}
