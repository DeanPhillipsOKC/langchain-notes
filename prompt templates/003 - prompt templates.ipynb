{
 "cells": [
  {
   "cell_type": "code",
   "execution_count": 3,
   "id": "29e2cc3b-570a-4f49-8f32-d14865537b19",
   "metadata": {},
   "outputs": [],
   "source": [
    "from langchain import PromptTemplate"
   ]
  },
  {
   "cell_type": "code",
   "execution_count": 4,
   "id": "b29b24a5-1b72-4d4d-8e67-063ac9ea913e",
   "metadata": {},
   "outputs": [],
   "source": [
    "dictionary_template = PromptTemplate(\n",
    "    input_variables = ['word'],\n",
    "    template = \"Give me a dictionary entry of {word}.  Make sure you include an example of how it is used\"\n",
    ")"
   ]
  },
  {
   "cell_type": "code",
   "execution_count": 5,
   "id": "a13ef268-9512-4f6e-9d13-4685f50d8b1d",
   "metadata": {},
   "outputs": [],
   "source": [
    "p = dictionary_template.format(word=\"cynical\")"
   ]
  },
  {
   "cell_type": "code",
   "execution_count": 6,
   "id": "c899934f-d9ee-49bc-9b85-23a881971e1a",
   "metadata": {},
   "outputs": [],
   "source": [
    "from langchain_openai import ChatOpenAI"
   ]
  },
  {
   "cell_type": "code",
   "execution_count": 7,
   "id": "d051ff79-903f-4c59-a435-53c9407fa04c",
   "metadata": {},
   "outputs": [],
   "source": [
    "chat = ChatOpenAI()"
   ]
  },
  {
   "cell_type": "code",
   "execution_count": 8,
   "id": "36270f51-e15e-4144-985f-7918916c73c0",
   "metadata": {},
   "outputs": [
    {
     "name": "stdout",
     "output_type": "stream",
     "text": [
      "Cynical (adjective)\n",
      "\n",
      "Definition: believing that people are motivated purely by self-interest; distrustful of human sincerity or integrity\n",
      "\n",
      "Example: After being lied to by her so-called friends multiple times, she became cynical and found it hard to trust anyone.\n"
     ]
    }
   ],
   "source": [
    "print(chat.invoke(p).content)"
   ]
  },
  {
   "cell_type": "code",
   "execution_count": null,
   "id": "e3bb52d7-227e-4be1-9c76-546f422d34c9",
   "metadata": {},
   "outputs": [],
   "source": []
  }
 ],
 "metadata": {
  "kernelspec": {
   "display_name": "Python 3 (ipykernel)",
   "language": "python",
   "name": "python3"
  },
  "language_info": {
   "codemirror_mode": {
    "name": "ipython",
    "version": 3
   },
   "file_extension": ".py",
   "mimetype": "text/x-python",
   "name": "python",
   "nbconvert_exporter": "python",
   "pygments_lexer": "ipython3",
   "version": "3.12.4"
  }
 },
 "nbformat": 4,
 "nbformat_minor": 5
}
