{
 "cells": [
  {
   "cell_type": "code",
   "execution_count": 2,
   "id": "f0787078-c542-4a6c-9411-a0efdcd05af6",
   "metadata": {},
   "outputs": [],
   "source": [
    "from langchain.output_parsers import StructuredOutputParser, ResponseSchema"
   ]
  },
  {
   "cell_type": "code",
   "execution_count": 3,
   "id": "76d5c904-351b-441d-8ac9-682e99eb5566",
   "metadata": {},
   "outputs": [],
   "source": [
    "response_schemas = [\n",
    "    ResponseSchema(name=\"word\", description=\"word entered by the user\"),\n",
    "    ResponseSchema(name=\"meaning\", description=\"One line meaning of the word given by the user\"),\n",
    "    ResponseSchema(name=\"example\", description=\"An example of how that word can be used in a sentence\"),\n",
    "    ResponseSchema(name=\"etymology\", description=\"Origin or history of the word\")\n",
    "]"
   ]
  },
  {
   "cell_type": "code",
   "execution_count": 4,
   "id": "b720241d-1d28-42d2-942f-c84e92f2fc8f",
   "metadata": {},
   "outputs": [],
   "source": [
    "output_parser = StructuredOutputParser.from_response_schemas(response_schemas)"
   ]
  },
  {
   "cell_type": "code",
   "execution_count": 6,
   "id": "648d7bae-40b2-4688-adc3-3717f540724a",
   "metadata": {},
   "outputs": [],
   "source": [
    "format_instructions = output_parser.get_format_instructions()"
   ]
  },
  {
   "cell_type": "code",
   "execution_count": 7,
   "id": "b3d65c37-f234-4061-a723-a77022373d16",
   "metadata": {},
   "outputs": [
    {
     "name": "stdout",
     "output_type": "stream",
     "text": [
      "The output should be a markdown code snippet formatted in the following schema, including the leading and trailing \"```json\" and \"```\":\n",
      "\n",
      "```json\n",
      "{\n",
      "\t\"word\": string  // word entered by the user\n",
      "\t\"meaning\": string  // One line meaning of the word given by the user\n",
      "\t\"example\": string  // An example of how that word can be used in a sentence\n",
      "\t\"etymology\": string  // Origin or history of the word\n",
      "}\n",
      "```\n"
     ]
    }
   ],
   "source": [
    "print(format_instructions)"
   ]
  },
  {
   "cell_type": "code",
   "execution_count": 8,
   "id": "f3e0146e-d305-42b9-b834-a531fc3b5709",
   "metadata": {},
   "outputs": [],
   "source": [
    "from langchain.prompts import PromptTemplate"
   ]
  },
  {
   "cell_type": "code",
   "execution_count": 9,
   "id": "ea036561-c0ba-40f6-bc6b-96b13712dd33",
   "metadata": {},
   "outputs": [],
   "source": [
    "prompt = PromptTemplate(\n",
    "    input_variables=[\"word\"],\n",
    "    partial_variables={\"format_instructions\": format_instructions},\n",
    "    template=\"\"\"\n",
    "Provide the meaning, an example of how the word is used in a sentence and the etymology of the word.\n",
    "\n",
    "Word: {word}\n",
    "{format_instructions}\"\"\"\n",
    ")"
   ]
  },
  {
   "cell_type": "code",
   "execution_count": 10,
   "id": "ebdd404a-7923-4ace-a052-aaae82271181",
   "metadata": {},
   "outputs": [],
   "source": [
    "from langchain_openai import ChatOpenAI"
   ]
  },
  {
   "cell_type": "code",
   "execution_count": 11,
   "id": "69ab7a21-3c1d-4fc4-a93d-d776bb2698d0",
   "metadata": {},
   "outputs": [],
   "source": [
    "llm = ChatOpenAI()"
   ]
  },
  {
   "cell_type": "code",
   "execution_count": 12,
   "id": "c45dde64-04f1-4f39-b3e4-38db6eb8cd95",
   "metadata": {},
   "outputs": [],
   "source": [
    "chain = prompt | llm | output_parser"
   ]
  },
  {
   "cell_type": "code",
   "execution_count": 13,
   "id": "7c5d3da1-f6fa-49e5-b74b-1e9d85484be9",
   "metadata": {},
   "outputs": [
    {
     "data": {
      "text/plain": [
       "{'word': 'lagard',\n",
       " 'meaning': 'a person who lags behind or is slow to keep up with others',\n",
       " 'example': 'The lagard in the group struggled to keep pace during the hike.',\n",
       " 'etymology': \"The word 'lagard' is a combination of 'lag' (meaning to fall behind) and the suffix '-ard' which is used to form nouns indicating a person who possesses a quality or performs an action.\"}"
      ]
     },
     "execution_count": 13,
     "metadata": {},
     "output_type": "execute_result"
    }
   ],
   "source": [
    "chain.invoke(\"lagard\")"
   ]
  },
  {
   "cell_type": "code",
   "execution_count": null,
   "id": "41ab9f18-6563-497f-8368-4d63f93eafa4",
   "metadata": {},
   "outputs": [],
   "source": []
  }
 ],
 "metadata": {
  "kernelspec": {
   "display_name": "Python 3 (ipykernel)",
   "language": "python",
   "name": "python3"
  },
  "language_info": {
   "codemirror_mode": {
    "name": "ipython",
    "version": 3
   },
   "file_extension": ".py",
   "mimetype": "text/x-python",
   "name": "python",
   "nbconvert_exporter": "python",
   "pygments_lexer": "ipython3",
   "version": "3.12.4"
  }
 },
 "nbformat": 4,
 "nbformat_minor": 5
}
