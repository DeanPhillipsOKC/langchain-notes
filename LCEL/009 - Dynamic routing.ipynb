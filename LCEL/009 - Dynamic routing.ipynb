{
 "cells": [
  {
   "cell_type": "markdown",
   "id": "34221e02-b060-4e55-8d0c-64d4a5735012",
   "metadata": {},
   "source": [
    "## Dynamic Routing"
   ]
  },
  {
   "cell_type": "code",
   "execution_count": 1,
   "id": "0476767f-b335-4ff3-99a6-04e5ea9dfb96",
   "metadata": {},
   "outputs": [],
   "source": [
    "from langchain import PromptTemplate"
   ]
  },
  {
   "cell_type": "code",
   "execution_count": 2,
   "id": "a7bb29f1-0fd6-4fc1-925b-e7dfe68850b2",
   "metadata": {},
   "outputs": [],
   "source": [
    "classifier_template = PromptTemplate(\n",
    "    input_variables=[\"question\", \"answer\"],\n",
    "    template=\"\"\"\n",
    "You are given a question and the user's answer to that question.  Classify the user's answer as either 'Correct' or 'Incorrect'.\n",
    "Do not respond with more than one word.\n",
    "\n",
    "Question: {question}\n",
    "Answer: {answer}\"\"\"\n",
    ")"
   ]
  },
  {
   "cell_type": "code",
   "execution_count": 3,
   "id": "2ae9e3a9-21bc-4c66-8a97-a6fc70828e44",
   "metadata": {},
   "outputs": [],
   "source": [
    "from langchain_openai import ChatOpenAI"
   ]
  },
  {
   "cell_type": "code",
   "execution_count": 4,
   "id": "d2a3ed81-d27d-4f89-9dd3-9b8287f14f42",
   "metadata": {},
   "outputs": [],
   "source": [
    "llm = ChatOpenAI()"
   ]
  },
  {
   "cell_type": "code",
   "execution_count": 5,
   "id": "0e60551b-3290-427e-9b32-bc07a7bb6294",
   "metadata": {},
   "outputs": [],
   "source": [
    "from langchain_core.output_parsers import StrOutputParser"
   ]
  },
  {
   "cell_type": "code",
   "execution_count": 6,
   "id": "df4ffd06-0524-44a4-8afb-79a9468e59c2",
   "metadata": {},
   "outputs": [],
   "source": [
    "output_parser = StrOutputParser()"
   ]
  },
  {
   "cell_type": "code",
   "execution_count": 7,
   "id": "80428d0f-1b55-4f73-a398-f5573b7dc73f",
   "metadata": {},
   "outputs": [],
   "source": [
    "classifier_chain = classifier_template | llm | output_parser"
   ]
  },
  {
   "cell_type": "code",
   "execution_count": 8,
   "id": "62f938a7-0e9f-4a26-881a-278692cfb706",
   "metadata": {},
   "outputs": [
    {
     "data": {
      "text/plain": [
       "'Correct'"
      ]
     },
     "execution_count": 8,
     "metadata": {},
     "output_type": "execute_result"
    }
   ],
   "source": [
    "classifier_chain.invoke({\"question\": \"What color is the sky?\", \"answer\": \"blue\"})"
   ]
  },
  {
   "cell_type": "code",
   "execution_count": 9,
   "id": "fe33d686-7192-4b00-bca4-8983c2d6be8b",
   "metadata": {},
   "outputs": [],
   "source": [
    "correct_template = PromptTemplate(\n",
    "    input_variables=[\"question\"],\n",
    "    template=\"\"\"\n",
    "The user was asked the following question and answered it correctly.  Ask a more difficult question on the same topic.\n",
    "\n",
    "Question: {question}\n",
    "New Question:\"\"\"\n",
    ")"
   ]
  },
  {
   "cell_type": "code",
   "execution_count": 10,
   "id": "721fda50-da14-4bc4-b11d-b8f772c5a801",
   "metadata": {},
   "outputs": [],
   "source": [
    "correct_chain = correct_template | llm | output_parser"
   ]
  },
  {
   "cell_type": "code",
   "execution_count": 11,
   "id": "d57885f0-81e1-481e-9139-cc6bfd3bb002",
   "metadata": {},
   "outputs": [],
   "source": [
    "incorrect_template = PromptTemplate(\n",
    "    input_variables=[\"question\"],\n",
    "    template=\"\"\"\n",
    "The user was asked the following question and answered it incorrectly.  Tell them the correct answer and explain why.\n",
    "\n",
    "Question: {question}\n",
    "Correct Answer:\n",
    "Explanation:\"\"\"\n",
    ")"
   ]
  },
  {
   "cell_type": "code",
   "execution_count": 12,
   "id": "fafa5724-3d42-4172-91ed-4f4492ead61a",
   "metadata": {},
   "outputs": [],
   "source": [
    "incorrect_chain = incorrect_template | llm | output_parser"
   ]
  },
  {
   "cell_type": "code",
   "execution_count": 14,
   "id": "ca6c9f99-d13b-4a6c-890d-990331e45ed0",
   "metadata": {},
   "outputs": [],
   "source": [
    "def route(info):\n",
    "    if info[\"result\"].lower() == \"correct\":\n",
    "        return correct_chain\n",
    "    elif info[\"result\"].lower() == \"incorrect\":\n",
    "        return incorrect_chain\n",
    "    else:\n",
    "        return \"Format is not correct\""
   ]
  },
  {
   "cell_type": "code",
   "execution_count": 17,
   "id": "3a45e622-9ccc-4e5d-a5eb-f48a13bfb0e5",
   "metadata": {},
   "outputs": [],
   "source": [
    "from langchain_core.runnables import RunnableParallel, RunnablePassthrough, RunnableLambda"
   ]
  },
  {
   "cell_type": "code",
   "execution_count": 21,
   "id": "c15ba70e-ca3a-48b7-b307-940dcd0c730a",
   "metadata": {},
   "outputs": [],
   "source": [
    "final_chain = RunnableParallel(\n",
    "    {\n",
    "        \"result\": classifier_chain, \n",
    "        \"question\": lambda x: x[\"question\"], \n",
    "        \"answer\": lambda x: x[\"answer\"]\n",
    "    }\n",
    ") | RunnableParallel(\n",
    "    {\n",
    "        \"response\": RunnableLambda(route), \n",
    "        \"input\": RunnablePassthrough()\n",
    "    }\n",
    ")"
   ]
  },
  {
   "cell_type": "code",
   "execution_count": 23,
   "id": "f99c9347-7b59-4d47-be5c-ce1ce3c29b6e",
   "metadata": {},
   "outputs": [
    {
     "data": {
      "text/plain": [
       "{'response': \"The correct answer is blue. The sky appears blue during the day due to the way the Earth's atmosphere scatters sunlight. The shorter blue wavelengths are scattered in all directions by the gases and particles in the atmosphere, giving the sky its blue appearance.\",\n",
       " 'input': {'result': 'Incorrect',\n",
       "  'question': 'What color is the sky?',\n",
       "  'answer': 'pink'}}"
      ]
     },
     "execution_count": 23,
     "metadata": {},
     "output_type": "execute_result"
    }
   ],
   "source": [
    "final_chain.invoke({\"question\": \"What color is the sky?\", \"answer\": \"pink\"})"
   ]
  },
  {
   "cell_type": "code",
   "execution_count": null,
   "id": "e7a6b4f7-092a-4e02-9842-cd680ef7cc1f",
   "metadata": {},
   "outputs": [],
   "source": []
  }
 ],
 "metadata": {
  "kernelspec": {
   "display_name": "Python 3 (ipykernel)",
   "language": "python",
   "name": "python3"
  },
  "language_info": {
   "codemirror_mode": {
    "name": "ipython",
    "version": 3
   },
   "file_extension": ".py",
   "mimetype": "text/x-python",
   "name": "python",
   "nbconvert_exporter": "python",
   "pygments_lexer": "ipython3",
   "version": "3.12.4"
  }
 },
 "nbformat": 4,
 "nbformat_minor": 5
}
