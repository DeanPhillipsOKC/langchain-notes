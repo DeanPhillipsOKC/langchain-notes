{
 "cells": [
  {
   "cell_type": "code",
   "execution_count": 4,
   "id": "42d82078-2f16-42a2-989d-953dda6539f0",
   "metadata": {},
   "outputs": [],
   "source": [
    "from langchain_openai import ChatOpenAI"
   ]
  },
  {
   "cell_type": "code",
   "execution_count": 5,
   "id": "7c2c8908-f664-4e36-a347-191f905b7d88",
   "metadata": {},
   "outputs": [],
   "source": [
    "chat = ChatOpenAI()"
   ]
  },
  {
   "cell_type": "code",
   "execution_count": 9,
   "id": "7f232cbb-cde2-46f5-b3ae-36cc514d8fad",
   "metadata": {},
   "outputs": [],
   "source": [
    "from langchain_core.output_parsers import StrOutputParser"
   ]
  },
  {
   "cell_type": "code",
   "execution_count": 6,
   "id": "1f036226-6811-41d7-8dc0-cbadd1dec672",
   "metadata": {},
   "outputs": [],
   "source": [
    "from langchain import PromptTemplate"
   ]
  },
  {
   "cell_type": "code",
   "execution_count": 7,
   "id": "c26a516b-756e-47b4-9cb8-d0883fbd58a5",
   "metadata": {},
   "outputs": [],
   "source": [
    "explainer_10_yo_template = PromptTemplate(\n",
    "    input_variables=[\"topic\"],\n",
    "    template=\"Explain this topic in a single paragraphs as if you were explaining it to a 10 year old - {topic}\"\n",
    ")"
   ]
  },
  {
   "cell_type": "code",
   "execution_count": 13,
   "id": "6774edb9-fe07-44a9-b37e-6c2734c599fb",
   "metadata": {},
   "outputs": [],
   "source": [
    "chain_10_yo = explainer_10_yo_template | chat | StrOutputParser()"
   ]
  },
  {
   "cell_type": "code",
   "execution_count": 11,
   "id": "d80fed90-ab70-4e32-8ec0-291c0b071fc8",
   "metadata": {},
   "outputs": [],
   "source": [
    "explainer_5_yo_template = PromptTemplate(\n",
    "    input_variables=[\"topic\"],\n",
    "    template=\"Explain this topic in a single paragraphs as if you were explaining it to a 5 year old - {topic}\"\n",
    ")"
   ]
  },
  {
   "cell_type": "code",
   "execution_count": 14,
   "id": "9d4c801e-0614-4a35-ad5f-d09f6bfe0728",
   "metadata": {},
   "outputs": [],
   "source": [
    "chain_5_yo = explainer_5_yo_template | chat | StrOutputParser()"
   ]
  },
  {
   "cell_type": "code",
   "execution_count": 16,
   "id": "bd38f8da-46ea-4042-84ee-1a5fc49ad565",
   "metadata": {},
   "outputs": [],
   "source": [
    "final_analysis_template = PromptTemplate(\n",
    "    input_variables=[\"topic\", \"explanation1\", \"explanation2\"],\n",
    "    template=\"\"\"\n",
    "    which of the two explanations given below are better for explaining {topic}?\n",
    "    ###\n",
    "    Explanation 1 - {explanation1}\n",
    "    ###\n",
    "    ***\n",
    "    Explanation 2 = {explanation2}\n",
    "    ***\n",
    "    \"\"\"\n",
    ")"
   ]
  },
  {
   "cell_type": "code",
   "execution_count": 17,
   "id": "7f894c3b-3832-4d63-afd5-d3dde192e46a",
   "metadata": {},
   "outputs": [],
   "source": [
    "from langchain_core.runnables import RunnableParallel, RunnablePassthrough"
   ]
  },
  {
   "cell_type": "code",
   "execution_count": 24,
   "id": "848ef963-b61e-4954-b5af-af4ef59b5dc3",
   "metadata": {},
   "outputs": [],
   "source": [
    "combined_chain = (\n",
    "    RunnableParallel(topic=RunnablePassthrough(), explanation1=chain_10_yo, explanation2=chain_5_yo)\n",
    "    | final_analysis_template | chat | StrOutputParser()\n",
    ")"
   ]
  },
  {
   "cell_type": "code",
   "execution_count": 25,
   "id": "d4c95389-c200-456c-b537-e3f43198251f",
   "metadata": {},
   "outputs": [
    {
     "data": {
      "text/plain": [
       "'Explanation 1 is better for explaining relativity. It provides a more detailed and accurate explanation of the concept by using the example of being on a train to illustrate the idea of relativity and how things can appear differently depending on your perspective and motion. Explanation 2, on the other hand, simplifies the concept and does not provide as clear of an explanation.'"
      ]
     },
     "execution_count": 25,
     "metadata": {},
     "output_type": "execute_result"
    }
   ],
   "source": [
    "combined_chain.invoke({\"topic\": \"relativity\"})"
   ]
  },
  {
   "cell_type": "code",
   "execution_count": null,
   "id": "45143c96-3948-4046-a62a-83edc8f86b4b",
   "metadata": {},
   "outputs": [],
   "source": []
  }
 ],
 "metadata": {
  "kernelspec": {
   "display_name": "Python 3 (ipykernel)",
   "language": "python",
   "name": "python3"
  },
  "language_info": {
   "codemirror_mode": {
    "name": "ipython",
    "version": 3
   },
   "file_extension": ".py",
   "mimetype": "text/x-python",
   "name": "python",
   "nbconvert_exporter": "python",
   "pygments_lexer": "ipython3",
   "version": "3.12.4"
  }
 },
 "nbformat": 4,
 "nbformat_minor": 5
}
