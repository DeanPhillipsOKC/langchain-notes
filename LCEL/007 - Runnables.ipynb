{
 "cells": [
  {
   "cell_type": "markdown",
   "id": "c49b4afa-d623-406d-a738-d959b30397e3",
   "metadata": {},
   "source": [
    "## RunnablePassthrough"
   ]
  },
  {
   "cell_type": "code",
   "execution_count": 1,
   "id": "38578c38-a4eb-4de4-8521-6e4ad141a930",
   "metadata": {},
   "outputs": [],
   "source": [
    "from langchain_core.runnables import RunnablePassthrough"
   ]
  },
  {
   "cell_type": "code",
   "execution_count": 2,
   "id": "49cbf2b8-2f51-4185-8ca1-706b447106c2",
   "metadata": {},
   "outputs": [],
   "source": [
    "chain = RunnablePassthrough()"
   ]
  },
  {
   "cell_type": "code",
   "execution_count": 3,
   "id": "7c67ff0e-0fda-44a6-8e63-2e929c73dc28",
   "metadata": {},
   "outputs": [
    {
     "data": {
      "text/plain": [
       "'input'"
      ]
     },
     "execution_count": 3,
     "metadata": {},
     "output_type": "execute_result"
    }
   ],
   "source": [
    "chain.invoke(\"input\")"
   ]
  },
  {
   "cell_type": "markdown",
   "id": "f002bd48-0832-4e56-9f9f-681548d48014",
   "metadata": {},
   "source": [
    "## RunnableLambda"
   ]
  },
  {
   "cell_type": "code",
   "execution_count": 4,
   "id": "86afdfc7-7199-4de0-8a00-d1f6dcd67bf3",
   "metadata": {},
   "outputs": [],
   "source": [
    "from langchain_core.runnables import RunnableLambda"
   ]
  },
  {
   "cell_type": "code",
   "execution_count": 5,
   "id": "b251b8a6-c874-4e21-8a28-7c5222faa78a",
   "metadata": {},
   "outputs": [],
   "source": [
    "def output_length(input: str):\n",
    "    output = len(input)\n",
    "    return output"
   ]
  },
  {
   "cell_type": "code",
   "execution_count": 6,
   "id": "2b851996-816e-4e9b-ad4a-dd8c2db3e3c7",
   "metadata": {},
   "outputs": [],
   "source": [
    "chain = RunnableLambda(output_length)"
   ]
  },
  {
   "cell_type": "code",
   "execution_count": 7,
   "id": "8d226026-ed76-4bd5-9024-6cf8c66f78eb",
   "metadata": {},
   "outputs": [
    {
     "data": {
      "text/plain": [
       "15"
      ]
     },
     "execution_count": 7,
     "metadata": {},
     "output_type": "execute_result"
    }
   ],
   "source": [
    "chain.invoke(\"input to output\")"
   ]
  },
  {
   "cell_type": "markdown",
   "id": "dfe9bc35-8871-438b-8a02-2d5ef1efe28c",
   "metadata": {},
   "source": [
    "## RunnableParallel"
   ]
  },
  {
   "cell_type": "code",
   "execution_count": 8,
   "id": "ad2fc8df-55eb-475c-9481-8aa8213fc406",
   "metadata": {},
   "outputs": [],
   "source": [
    "from langchain_core.runnables import RunnableParallel"
   ]
  },
  {
   "cell_type": "code",
   "execution_count": 9,
   "id": "1766e700-ad47-44a7-ac89-d874ec1f9c45",
   "metadata": {},
   "outputs": [],
   "source": [
    "chain = RunnableParallel(text = RunnablePassthrough(), length = RunnableLambda(output_length))"
   ]
  },
  {
   "cell_type": "code",
   "execution_count": 10,
   "id": "440fde75-d5b0-4a1f-ab18-7ef50ea584a6",
   "metadata": {},
   "outputs": [
    {
     "data": {
      "text/plain": [
       "{'text': 'input', 'length': 5}"
      ]
     },
     "execution_count": 10,
     "metadata": {},
     "output_type": "execute_result"
    }
   ],
   "source": [
    "chain.invoke(\"input\")"
   ]
  },
  {
   "cell_type": "code",
   "execution_count": null,
   "id": "07384fc6-dadc-4a85-b21e-9a3cb4a24348",
   "metadata": {},
   "outputs": [],
   "source": []
  }
 ],
 "metadata": {
  "kernelspec": {
   "display_name": "Python 3 (ipykernel)",
   "language": "python",
   "name": "python3"
  },
  "language_info": {
   "codemirror_mode": {
    "name": "ipython",
    "version": 3
   },
   "file_extension": ".py",
   "mimetype": "text/x-python",
   "name": "python",
   "nbconvert_exporter": "python",
   "pygments_lexer": "ipython3",
   "version": "3.12.4"
  }
 },
 "nbformat": 4,
 "nbformat_minor": 5
}
